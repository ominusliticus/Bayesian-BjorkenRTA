{
 "cells": [
  {
   "cell_type": "code",
   "execution_count": 1,
   "source": [
    "# For changing directories to C++ programming and runnning files\n",
    "import subprocess as sp\n",
    "import os\n",
    "\n",
    "# since using WSL2\n",
    "os.environ['MPLCONFIGDIR'] = '/tmp/'\n",
    "\n",
    "from multiprocessing import Pool\n",
    "\n",
    "# Typical functionality for data manipulation and generation of latin hypercube\n",
    "import numpy as np\n",
    "from pyDOE import lhs\n",
    "import emcee\n",
    "\n",
    "# Gaussian Process emulator \n",
    "import sklearn\n",
    "from sklearn.gaussian_process import GaussianProcessRegressor as gpr\n",
    "from sklearn.gaussian_process import kernels as krnl\n",
    "import scipy.stats as st\n",
    "from scipy import optimize\n",
    "from scipy.linalg import lapack\n",
    "\n",
    "# for plotting\n",
    "import matplotlib.pyplot as plt\n",
    "import matplotlib.ticker as tck\n",
    "import seaborn as sns\n",
    "sns.set(\"notebook\")\n",
    "%matplotlib inline\n",
    "plt.style.use('default')\n",
    "\n",
    "# data storage\n",
    "import pandas as pd\n"
   ],
   "outputs": [],
   "metadata": {}
  },
  {
   "cell_type": "code",
   "execution_count": 2,
   "source": [
    "import warnings\n",
    "from sklearn.exceptions import DataConversionWarning\n",
    "warnings.filterwarnings(action='ignore', category=DataConversionWarning)"
   ],
   "outputs": [],
   "metadata": {}
  },
  {
   "cell_type": "code",
   "execution_count": 3,
   "source": [
    "# My costumizations for plots\n",
    "import matplotlib.font_manager\n",
    "from matplotlib import rc\n",
    "rc('font',**{'family':'serif', 'serif':['Computer Modern Roman']})\n",
    "rc('text', usetex=True)\n",
    "\n",
    "def get_cmap(n, name='hsv'):\n",
    "    '''Returns a function that maps each index in 0, 1, ..., n-1 to a distinct \n",
    "    RGB color; the keyword argument name must be a standard mpl colormap name.'''\n",
    "    return plt.cm.get_cmap(name, n)\n",
    "\n",
    "def costumize_axis(ax, x_title, y_title):\n",
    "    ax.set_xlabel(x_title, fontsize=24)\n",
    "    ax.set_ylabel(y_title, fontsize=24)\n",
    "    ax.tick_params(axis='both', labelsize=18, top=True, right=True)\n",
    "    ax.tick_params(axis='both', which='major', direction='in', length=8)\n",
    "    ax.xaxis.set_minor_locator(tck.AutoMinorLocator())\n",
    "    ax.yaxis.set_minor_locator(tck.AutoMinorLocator())\n",
    "    ax.tick_params(axis='both', which='minor', direction='in', length=4, top=True, right=True)\n",
    "    return ax"
   ],
   "outputs": [],
   "metadata": {}
  },
  {
   "cell_type": "code",
   "execution_count": 4,
   "source": [
    "# Others costumizations for plots\n",
    "def hist_1d_2d(X, Y, nameX, nameY):\n",
    "    left, width = 0.1, 0.75\n",
    "    bottom, height = 0.1, 0.75\n",
    "    spacing = 0.005\n",
    "    rect_scatter = [left, bottom, width, height]\n",
    "    rect_histx = [left, bottom + height + spacing, width, 0.15]\n",
    "    rect_histy = [left + width + spacing, bottom, 0.15, height]\n",
    "\n",
    "    fig = plt.figure(figsize=(10, 10))\n",
    "    fig.patch.set_facecolor('white')\n",
    "    ax = fig.add_axes(rect_scatter)\n",
    "    ax1 = fig.add_axes(rect_histx, sharex=ax)\n",
    "    ax2 = fig.add_axes(rect_histy, sharey=ax)\n",
    "    costumize_axis(ax1, '', '')\n",
    "    costumize_axis(ax2, '', '')\n",
    "    ax1.tick_params(axis=\"x\", labelbottom=False)\n",
    "    ax2.tick_params(axis=\"y\", labelleft=False)\n",
    "\n",
    "    ax.scatter(X, Y, color='blue')\n",
    "    ax1.hist(X, color='blue', density=True)\n",
    "    ax2.hist(Y, color='blue', orientation='horizontal', density=True)\n",
    "    costumize_axis(ax, nameX, nameY)"
   ],
   "outputs": [],
   "metadata": {}
  },
  {
   "cell_type": "markdown",
   "source": [
    "# Defining the Model\n",
    "This was actually done in `C++`, and this bit of code interface with the executable."
   ],
   "metadata": {}
  },
  {
   "cell_type": "code",
   "execution_count": 5,
   "source": [
    "def PrintParametersFile(params_dict):\n",
    "    '''\n",
    "    Function ouputs file \"params.txt\" to the Code/util folder to be used by the\n",
    "    Code/build/exact_solution.x program\n",
    "    '''\n",
    "    os.chdir('/mnt/c/users/gil-c/Documents/Heinz_Research/TeX-Docs/Rough-Drafts/Bayesian-Toy-Model/Code/')\n",
    "    with open('./utils/params.txt', 'w') as fout:\n",
    "        fout.write(f'tau_0 {params_dict[\"tau_0\"]}\\n')\n",
    "        fout.write(f'Lambda_0 {params_dict[\"Lambda_0\"]}\\n')\n",
    "        fout.write(f'alpha_0 {params_dict[\"alpha_0\"]}\\n')\n",
    "        fout.write(f'xi_0 {params_dict[\"xi_0\"]}\\n')\n",
    "        fout.write(f'ul {params_dict[\"tau_f\"]}\\n')\n",
    "        fout.write(f'll {params_dict[\"tau_0\"]}\\n')\n",
    "        fout.write(f'mass {params_dict[\"mass\"]}\\n')\n",
    "        fout.write(f'eta_s {params_dict[\"eta_s\"]}\\n')\n",
    "        fout.write(f'pl0 {params_dict[\"pl0\"]}\\n')\n",
    "        fout.write(f'pt0 {params_dict[\"pt0\"]}\\n')\n",
    "        fout.write(f'TYPE {params_dict[\"hydro_type\"]}')\n",
    "    os.chdir('/mnt/c/users/gil-c/Documents/Heinz_Research/TeX-Docs/Rough-Drafts/Bayesian-Toy-Model/Code/scripts/')\n",
    "    return \n",
    "\n",
    "def RunHydroSimulation():\n",
    "    '''\n",
    "    Function calls the C++ excecutable that run hydro calculations\n",
    "    '''\n",
    "    os.chdir('/mnt/c/users/gil-c/Documents/Heinz_Research/TeX-Docs/Rough-Drafts/Bayesian-Toy-Model/Code/')\n",
    "    sp.run(['./build/exact_solution.x'], shell=True)\n",
    "    os.chdir('/mnt/c/users/gil-c/Documents/Heinz_Research/TeX-Docs/Rough-Drafts/Bayesian-Toy-Model/Code/scripts/')\n",
    "    return"
   ],
   "outputs": [],
   "metadata": {}
  },
  {
   "cell_type": "markdown",
   "source": [
    "# Gaussian Process Regression\n",
    "The training points and validation plots"
   ],
   "metadata": {}
  },
  {
   "cell_type": "code",
   "execution_count": 17,
   "source": [
    "# Need to define latin hypercube sampling points and then run hydrodynamic simulation for all.\n",
    "GP_parameter_names = ['eta_s', 'tau_f', 'tau_0', 'Lambda_0', 'pl0', 'plt0'] # Expand as needed\n",
    "GP_parameter_names_math = [r'$\\eta_s$', r'$\\tau_f$', r'$\\tau_0$', r'$\\Lambda_0$', r'$\\mathcal P_{L,0}$', r'$\\mathcal P_{T,0}$'] # Expand as needed\n",
    "num_parameters_in_GP = len(GP_parameter_names) # Should be minimum of two to take into account relaxation time constant and ending time\n",
    "# Make sure that order of ranges variable matches how they appear in names_of_GP_parameters\n",
    "GP_parameter_ranges = np.array([[1 / (4 * np.pi), 10 / (4 * np.pi)], [10, 20], [0.02, 0.12], [1.0, 2], [8.0, 9.0], [1.0, 2.0]])\n",
    "num_design_points = 2 * num_parameters_in_GP\n",
    "unit = lhs(n=num_parameters_in_GP, samples=num_design_points, criterion='maximin')\n",
    "GP_design_points = GP_parameter_ranges[:, 0] + unit * (GP_parameter_ranges[:, 1] - GP_parameter_ranges[:, 0])\n",
    "GP_design_range = GP_parameter_ranges[:,1] - GP_parameter_ranges[:,0]\n",
    "print(GP_design_range)"
   ],
   "outputs": [
    {
     "output_type": "stream",
     "name": "stdout",
     "text": [
      "[ 0.71619724 10.          0.1         1.9         5.          1.9       ]\n"
     ]
    }
   ],
   "metadata": {}
  },
  {
   "cell_type": "code",
   "execution_count": 7,
   "source": [
    "# fig, ax = plt.subplots(figsize=(10, 10))\n",
    "# fig.patch.set_facecolor('white')\n",
    "# ax.scatter(GP_design_points[:, 0], GP_design_points[:, 1])\n",
    "# costumize_axis(ax, r'$\\eta/\\mathcal S$', r'$\\tau_f$ [fm/c]')\n",
    "\n",
    "hist_1d_2d(GP_design_points[:, 0], GP_design_points[:, 1], r'$\\eta/\\mathcal S$', r'$\\tau_f$ [fm/c]')"
   ],
   "outputs": [
    {
     "output_type": "display_data",
     "data": {
      "text/plain": [
       "<Figure size 1000x1000 with 3 Axes>"
      ],
      "image/svg+xml": "<?xml version=\"1.0\" encoding=\"utf-8\" standalone=\"no\"?>\n<!DOCTYPE svg PUBLIC \"-//W3C//DTD SVG 1.1//EN\"\n  \"http://www.w3.org/Graphics/SVG/1.1/DTD/svg11.dtd\">\n<svg height=\"713.351701pt\" version=\"1.1\" viewBox=\"0 0 719.782774 713.351701\" width=\"719.782774pt\" xmlns=\"http://www.w3.org/2000/svg\" xmlns:xlink=\"http://www.w3.org/1999/xlink\">\n <metadata>\n  <rdf:RDF xmlns:cc=\"http://creativecommons.org/ns#\" xmlns:dc=\"http://purl.org/dc/elements/1.1/\" xmlns:rdf=\"http://www.w3.org/1999/02/22-rdf-syntax-ns#\">\n   <cc:Work>\n    <dc:type rdf:resource=\"http://purl.org/dc/dcmitype/StillImage\"/>\n    <dc:date>2021-08-26T14:37:46.940441</dc:date>\n    <dc:format>image/svg+xml</dc:format>\n    <dc:creator>\n     <cc:Agent>\n      <dc:title>Matplotlib v3.4.2, https://matplotlib.org/</dc:title>\n     </cc:Agent>\n    </dc:creator>\n   </cc:Work>\n  </rdf:RDF>\n </metadata>\n <defs>\n  <style type=\"text/css\">*{stroke-linecap:butt;stroke-linejoin:round;}</style>\n </defs>\n <g id=\"figure_1\">\n  <g id=\"patch_1\">\n   <path d=\"M 0 713.351701 \nL 719.782774 713.351701 \nL 719.782774 0 \nL 0 0 \nz\n\" style=\"fill:#ffffff;\"/>\n  </g>\n  <g id=\"axes_1\">\n   <g id=\"patch_2\">\n    <path d=\"M 55.900768 658.8 \nL 595.900768 658.8 \nL 595.900768 118.8 \nL 55.900768 118.8 \nz\n\" style=\"fill:#ffffff;\"/>\n   </g>\n   <g id=\"PathCollection_1\">\n    <defs>\n     <path d=\"M 0 3 \nC 0.795609 3 1.55874 2.683901 2.12132 2.12132 \nC 2.683901 1.55874 3 0.795609 3 0 \nC 3 -0.795609 2.683901 -1.55874 2.12132 -2.12132 \nC 1.55874 -2.683901 0.795609 -3 0 -3 \nC -0.795609 -3 -1.55874 -2.683901 -2.12132 -2.12132 \nC -2.683901 -1.55874 -3 -0.795609 -3 0 \nC -3 0.795609 -2.683901 1.55874 -2.12132 2.12132 \nC -1.55874 2.683901 -0.795609 3 0 3 \nz\n\" id=\"m9bf403d814\" style=\"stroke:#0000ff;\"/>\n    </defs>\n    <g clip-path=\"url(#p22344328af)\">\n     <use style=\"fill:#0000ff;stroke:#0000ff;\" x=\"377.688167\" xlink:href=\"#m9bf403d814\" y=\"464.899046\"/>\n     <use style=\"fill:#0000ff;stroke:#0000ff;\" x=\"320.922447\" xlink:href=\"#m9bf403d814\" y=\"393.793273\"/>\n     <use style=\"fill:#0000ff;stroke:#0000ff;\" x=\"238.758351\" xlink:href=\"#m9bf403d814\" y=\"517.837006\"/>\n     <use style=\"fill:#0000ff;stroke:#0000ff;\" x=\"414.054671\" xlink:href=\"#m9bf403d814\" y=\"198.714049\"/>\n     <use style=\"fill:#0000ff;stroke:#0000ff;\" x=\"214.276547\" xlink:href=\"#m9bf403d814\" y=\"418.281199\"/>\n     <use style=\"fill:#0000ff;stroke:#0000ff;\" x=\"468.342441\" xlink:href=\"#m9bf403d814\" y=\"481.258974\"/>\n     <use style=\"fill:#0000ff;stroke:#0000ff;\" x=\"551.352116\" xlink:href=\"#m9bf403d814\" y=\"596.495184\"/>\n     <use style=\"fill:#0000ff;stroke:#0000ff;\" x=\"235.360366\" xlink:href=\"#m9bf403d814\" y=\"616.890558\"/>\n     <use style=\"fill:#0000ff;stroke:#0000ff;\" x=\"169.275145\" xlink:href=\"#m9bf403d814\" y=\"362.727405\"/>\n     <use style=\"fill:#0000ff;stroke:#0000ff;\" x=\"98.407783\" xlink:href=\"#m9bf403d814\" y=\"341.750224\"/>\n     <use style=\"fill:#0000ff;stroke:#0000ff;\" x=\"316.056665\" xlink:href=\"#m9bf403d814\" y=\"173.678504\"/>\n     <use style=\"fill:#0000ff;stroke:#0000ff;\" x=\"362.865248\" xlink:href=\"#m9bf403d814\" y=\"322.309616\"/>\n     <use style=\"fill:#0000ff;stroke:#0000ff;\" x=\"495.980358\" xlink:href=\"#m9bf403d814\" y=\"434.753576\"/>\n     <use style=\"fill:#0000ff;stroke:#0000ff;\" x=\"253.346516\" xlink:href=\"#m9bf403d814\" y=\"239.950604\"/>\n     <use style=\"fill:#0000ff;stroke:#0000ff;\" x=\"261.494499\" xlink:href=\"#m9bf403d814\" y=\"147.900024\"/>\n     <use style=\"fill:#0000ff;stroke:#0000ff;\" x=\"404.302569\" xlink:href=\"#m9bf403d814\" y=\"383.320914\"/>\n     <use style=\"fill:#0000ff;stroke:#0000ff;\" x=\"333.969186\" xlink:href=\"#m9bf403d814\" y=\"594.576242\"/>\n     <use style=\"fill:#0000ff;stroke:#0000ff;\" x=\"384.405262\" xlink:href=\"#m9bf403d814\" y=\"414.574778\"/>\n     <use style=\"fill:#0000ff;stroke:#0000ff;\" x=\"222.397977\" xlink:href=\"#m9bf403d814\" y=\"601.604841\"/>\n     <use style=\"fill:#0000ff;stroke:#0000ff;\" x=\"87.81662\" xlink:href=\"#m9bf403d814\" y=\"495.544252\"/>\n     <use style=\"fill:#0000ff;stroke:#0000ff;\" x=\"450.796783\" xlink:href=\"#m9bf403d814\" y=\"334.503117\"/>\n     <use style=\"fill:#0000ff;stroke:#0000ff;\" x=\"438.073724\" xlink:href=\"#m9bf403d814\" y=\"408.044906\"/>\n     <use style=\"fill:#0000ff;stroke:#0000ff;\" x=\"197.010514\" xlink:href=\"#m9bf403d814\" y=\"404.398412\"/>\n     <use style=\"fill:#0000ff;stroke:#0000ff;\" x=\"292.365607\" xlink:href=\"#m9bf403d814\" y=\"524.94426\"/>\n     <use style=\"fill:#0000ff;stroke:#0000ff;\" x=\"427.857962\" xlink:href=\"#m9bf403d814\" y=\"588.222565\"/>\n     <use style=\"fill:#0000ff;stroke:#0000ff;\" x=\"556.90655\" xlink:href=\"#m9bf403d814\" y=\"555.936662\"/>\n     <use style=\"fill:#0000ff;stroke:#0000ff;\" x=\"335.33497\" xlink:href=\"#m9bf403d814\" y=\"313.259814\"/>\n     <use style=\"fill:#0000ff;stroke:#0000ff;\" x=\"329.457965\" xlink:href=\"#m9bf403d814\" y=\"626.612945\"/>\n     <use style=\"fill:#0000ff;stroke:#0000ff;\" x=\"313.262823\" xlink:href=\"#m9bf403d814\" y=\"235.682872\"/>\n     <use style=\"fill:#0000ff;stroke:#0000ff;\" x=\"110.38353\" xlink:href=\"#m9bf403d814\" y=\"538.985018\"/>\n     <use style=\"fill:#0000ff;stroke:#0000ff;\" x=\"512.946519\" xlink:href=\"#m9bf403d814\" y=\"559.102844\"/>\n     <use style=\"fill:#0000ff;stroke:#0000ff;\" x=\"367.446829\" xlink:href=\"#m9bf403d814\" y=\"544.371174\"/>\n     <use style=\"fill:#0000ff;stroke:#0000ff;\" x=\"220.165209\" xlink:href=\"#m9bf403d814\" y=\"500.968735\"/>\n     <use style=\"fill:#0000ff;stroke:#0000ff;\" x=\"162.778442\" xlink:href=\"#m9bf403d814\" y=\"571.261209\"/>\n     <use style=\"fill:#0000ff;stroke:#0000ff;\" x=\"513.288206\" xlink:href=\"#m9bf403d814\" y=\"169.278352\"/>\n     <use style=\"fill:#0000ff;stroke:#0000ff;\" x=\"185.218574\" xlink:href=\"#m9bf403d814\" y=\"159.795779\"/>\n     <use style=\"fill:#0000ff;stroke:#0000ff;\" x=\"354.322713\" xlink:href=\"#m9bf403d814\" y=\"376.787355\"/>\n     <use style=\"fill:#0000ff;stroke:#0000ff;\" x=\"91.226555\" xlink:href=\"#m9bf403d814\" y=\"613.699971\"/>\n     <use style=\"fill:#0000ff;stroke:#0000ff;\" x=\"324.408668\" xlink:href=\"#m9bf403d814\" y=\"224.60346\"/>\n     <use style=\"fill:#0000ff;stroke:#0000ff;\" x=\"398.535821\" xlink:href=\"#m9bf403d814\" y=\"440.428277\"/>\n     <use style=\"fill:#0000ff;stroke:#0000ff;\" x=\"105.209265\" xlink:href=\"#m9bf403d814\" y=\"468.251863\"/>\n     <use style=\"fill:#0000ff;stroke:#0000ff;\" x=\"485.157725\" xlink:href=\"#m9bf403d814\" y=\"454.176825\"/>\n     <use style=\"fill:#0000ff;stroke:#0000ff;\" x=\"449.339091\" xlink:href=\"#m9bf403d814\" y=\"549.791401\"/>\n     <use style=\"fill:#0000ff;stroke:#0000ff;\" x=\"409.870557\" xlink:href=\"#m9bf403d814\" y=\"330.958131\"/>\n     <use style=\"fill:#0000ff;stroke:#0000ff;\" x=\"526.397636\" xlink:href=\"#m9bf403d814\" y=\"303.353493\"/>\n     <use style=\"fill:#0000ff;stroke:#0000ff;\" x=\"244.410692\" xlink:href=\"#m9bf403d814\" y=\"207.568548\"/>\n     <use style=\"fill:#0000ff;stroke:#0000ff;\" x=\"358.753451\" xlink:href=\"#m9bf403d814\" y=\"268.065622\"/>\n     <use style=\"fill:#0000ff;stroke:#0000ff;\" x=\"191.253128\" xlink:href=\"#m9bf403d814\" y=\"188.671629\"/>\n     <use style=\"fill:#0000ff;stroke:#0000ff;\" x=\"301.119985\" xlink:href=\"#m9bf403d814\" y=\"607.922796\"/>\n     <use style=\"fill:#0000ff;stroke:#0000ff;\" x=\"420.114985\" xlink:href=\"#m9bf403d814\" y=\"339.481666\"/>\n     <use style=\"fill:#0000ff;stroke:#0000ff;\" x=\"456.862401\" xlink:href=\"#m9bf403d814\" y=\"410.764005\"/>\n     <use style=\"fill:#0000ff;stroke:#0000ff;\" x=\"505.440551\" xlink:href=\"#m9bf403d814\" y=\"484.16336\"/>\n     <use style=\"fill:#0000ff;stroke:#0000ff;\" x=\"82.465381\" xlink:href=\"#m9bf403d814\" y=\"358.359635\"/>\n     <use style=\"fill:#0000ff;stroke:#0000ff;\" x=\"475.045542\" xlink:href=\"#m9bf403d814\" y=\"434.144869\"/>\n     <use style=\"fill:#0000ff;stroke:#0000ff;\" x=\"180.153276\" xlink:href=\"#m9bf403d814\" y=\"158.765591\"/>\n     <use style=\"fill:#0000ff;stroke:#0000ff;\" x=\"477.74379\" xlink:href=\"#m9bf403d814\" y=\"584.152266\"/>\n     <use style=\"fill:#0000ff;stroke:#0000ff;\" x=\"390.498589\" xlink:href=\"#m9bf403d814\" y=\"202.152765\"/>\n     <use style=\"fill:#0000ff;stroke:#0000ff;\" x=\"571.355313\" xlink:href=\"#m9bf403d814\" y=\"514.806852\"/>\n     <use style=\"fill:#0000ff;stroke:#0000ff;\" x=\"439.374737\" xlink:href=\"#m9bf403d814\" y=\"387.51594\"/>\n     <use style=\"fill:#0000ff;stroke:#0000ff;\" x=\"445.325256\" xlink:href=\"#m9bf403d814\" y=\"563.534756\"/>\n     <use style=\"fill:#0000ff;stroke:#0000ff;\" x=\"94.604785\" xlink:href=\"#m9bf403d814\" y=\"299.417831\"/>\n     <use style=\"fill:#0000ff;stroke:#0000ff;\" x=\"164.869583\" xlink:href=\"#m9bf403d814\" y=\"449.621834\"/>\n     <use style=\"fill:#0000ff;stroke:#0000ff;\" x=\"297.567574\" xlink:href=\"#m9bf403d814\" y=\"259.742334\"/>\n     <use style=\"fill:#0000ff;stroke:#0000ff;\" x=\"231.291792\" xlink:href=\"#m9bf403d814\" y=\"391.1025\"/>\n     <use style=\"fill:#0000ff;stroke:#0000ff;\" x=\"498.01812\" xlink:href=\"#m9bf403d814\" y=\"143.345455\"/>\n     <use style=\"fill:#0000ff;stroke:#0000ff;\" x=\"564.793595\" xlink:href=\"#m9bf403d814\" y=\"489.277937\"/>\n     <use style=\"fill:#0000ff;stroke:#0000ff;\" x=\"501.994329\" xlink:href=\"#m9bf403d814\" y=\"183.125945\"/>\n     <use style=\"fill:#0000ff;stroke:#0000ff;\" x=\"394.849626\" xlink:href=\"#m9bf403d814\" y=\"225.637012\"/>\n     <use style=\"fill:#0000ff;stroke:#0000ff;\" x=\"467.088927\" xlink:href=\"#m9bf403d814\" y=\"178.772102\"/>\n     <use style=\"fill:#0000ff;stroke:#0000ff;\" x=\"548.474971\" xlink:href=\"#m9bf403d814\" y=\"581.591489\"/>\n     <use style=\"fill:#0000ff;stroke:#0000ff;\" x=\"128.856524\" xlink:href=\"#m9bf403d814\" y=\"272.614758\"/>\n     <use style=\"fill:#0000ff;stroke:#0000ff;\" x=\"461.949191\" xlink:href=\"#m9bf403d814\" y=\"277.471814\"/>\n     <use style=\"fill:#0000ff;stroke:#0000ff;\" x=\"350.220668\" xlink:href=\"#m9bf403d814\" y=\"549.223967\"/>\n     <use style=\"fill:#0000ff;stroke:#0000ff;\" x=\"139.097897\" xlink:href=\"#m9bf403d814\" y=\"216.827778\"/>\n     <use style=\"fill:#0000ff;stroke:#0000ff;\" x=\"371.196043\" xlink:href=\"#m9bf403d814\" y=\"458.666271\"/>\n     <use style=\"fill:#0000ff;stroke:#0000ff;\" x=\"249.306468\" xlink:href=\"#m9bf403d814\" y=\"634.254545\"/>\n     <use style=\"fill:#0000ff;stroke:#0000ff;\" x=\"560.265927\" xlink:href=\"#m9bf403d814\" y=\"297.838133\"/>\n     <use style=\"fill:#0000ff;stroke:#0000ff;\" x=\"181.201204\" xlink:href=\"#m9bf403d814\" y=\"427.132812\"/>\n     <use style=\"fill:#0000ff;stroke:#0000ff;\" x=\"287.822778\" xlink:href=\"#m9bf403d814\" y=\"325.728302\"/>\n     <use style=\"fill:#0000ff;stroke:#0000ff;\" x=\"517.656992\" xlink:href=\"#m9bf403d814\" y=\"250.311407\"/>\n     <use style=\"fill:#0000ff;stroke:#0000ff;\" x=\"173.437329\" xlink:href=\"#m9bf403d814\" y=\"423.23092\"/>\n     <use style=\"fill:#0000ff;stroke:#0000ff;\" x=\"209.950133\" xlink:href=\"#m9bf403d814\" y=\"497.056539\"/>\n     <use style=\"fill:#0000ff;stroke:#0000ff;\" x=\"541.899324\" xlink:href=\"#m9bf403d814\" y=\"620.737072\"/>\n     <use style=\"fill:#0000ff;stroke:#0000ff;\" x=\"483.932828\" xlink:href=\"#m9bf403d814\" y=\"533.292232\"/>\n     <use style=\"fill:#0000ff;stroke:#0000ff;\" x=\"380.623944\" xlink:href=\"#m9bf403d814\" y=\"184.988029\"/>\n     <use style=\"fill:#0000ff;stroke:#0000ff;\" x=\"156.421375\" xlink:href=\"#m9bf403d814\" y=\"474.417664\"/>\n     <use style=\"fill:#0000ff;stroke:#0000ff;\" x=\"374.559477\" xlink:href=\"#m9bf403d814\" y=\"575.431719\"/>\n     <use style=\"fill:#0000ff;stroke:#0000ff;\" x=\"568.467357\" xlink:href=\"#m9bf403d814\" y=\"155.068791\"/>\n     <use style=\"fill:#0000ff;stroke:#0000ff;\" x=\"430.936188\" xlink:href=\"#m9bf403d814\" y=\"348.348258\"/>\n     <use style=\"fill:#0000ff;stroke:#0000ff;\" x=\"114.824182\" xlink:href=\"#m9bf403d814\" y=\"399.326047\"/>\n     <use style=\"fill:#0000ff;stroke:#0000ff;\" x=\"534.565291\" xlink:href=\"#m9bf403d814\" y=\"507.33101\"/>\n     <use style=\"fill:#0000ff;stroke:#0000ff;\" x=\"208.245558\" xlink:href=\"#m9bf403d814\" y=\"244.300782\"/>\n     <use style=\"fill:#0000ff;stroke:#0000ff;\" x=\"202.69464\" xlink:href=\"#m9bf403d814\" y=\"446.501053\"/>\n     <use style=\"fill:#0000ff;stroke:#0000ff;\" x=\"542.289763\" xlink:href=\"#m9bf403d814\" y=\"289.430604\"/>\n     <use style=\"fill:#0000ff;stroke:#0000ff;\" x=\"276.262183\" xlink:href=\"#m9bf403d814\" y=\"356.128883\"/>\n     <use style=\"fill:#0000ff;stroke:#0000ff;\" x=\"109.031337\" xlink:href=\"#m9bf403d814\" y=\"510.849419\"/>\n     <use style=\"fill:#0000ff;stroke:#0000ff;\" x=\"305.99875\" xlink:href=\"#m9bf403d814\" y=\"285.627036\"/>\n     <use style=\"fill:#0000ff;stroke:#0000ff;\" x=\"346.245802\" xlink:href=\"#m9bf403d814\" y=\"196.118354\"/>\n     <use style=\"fill:#0000ff;stroke:#0000ff;\" x=\"227.315962\" xlink:href=\"#m9bf403d814\" y=\"265.475781\"/>\n     <use style=\"fill:#0000ff;stroke:#0000ff;\" x=\"340.344348\" xlink:href=\"#m9bf403d814\" y=\"529.937061\"/>\n     <use style=\"fill:#0000ff;stroke:#0000ff;\" x=\"280.804949\" xlink:href=\"#m9bf403d814\" y=\"307.957477\"/>\n     <use style=\"fill:#0000ff;stroke:#0000ff;\" x=\"491.244096\" xlink:href=\"#m9bf403d814\" y=\"568.913487\"/>\n     <use style=\"fill:#0000ff;stroke:#0000ff;\" x=\"145.656333\" xlink:href=\"#m9bf403d814\" y=\"213.143627\"/>\n     <use style=\"fill:#0000ff;stroke:#0000ff;\" x=\"152.202882\" xlink:href=\"#m9bf403d814\" y=\"379.791045\"/>\n     <use style=\"fill:#0000ff;stroke:#0000ff;\" x=\"255.820484\" xlink:href=\"#m9bf403d814\" y=\"231.600366\"/>\n     <use style=\"fill:#0000ff;stroke:#0000ff;\" x=\"525.204499\" xlink:href=\"#m9bf403d814\" y=\"278.708144\"/>\n     <use style=\"fill:#0000ff;stroke:#0000ff;\" x=\"263.718685\" xlink:href=\"#m9bf403d814\" y=\"348.191368\"/>\n     <use style=\"fill:#0000ff;stroke:#0000ff;\" x=\"406.920308\" xlink:href=\"#m9bf403d814\" y=\"368.220258\"/>\n     <use style=\"fill:#0000ff;stroke:#0000ff;\" x=\"292.717764\" xlink:href=\"#m9bf403d814\" y=\"629.585591\"/>\n     <use style=\"fill:#0000ff;stroke:#0000ff;\" x=\"273.750791\" xlink:href=\"#m9bf403d814\" y=\"256.228508\"/>\n     <use style=\"fill:#0000ff;stroke:#0000ff;\" x=\"124.09366\" xlink:href=\"#m9bf403d814\" y=\"371.150563\"/>\n     <use style=\"fill:#0000ff;stroke:#0000ff;\" x=\"120.100628\" xlink:href=\"#m9bf403d814\" y=\"461.61903\"/>\n     <use style=\"fill:#0000ff;stroke:#0000ff;\" x=\"137.404731\" xlink:href=\"#m9bf403d814\" y=\"603.711463\"/>\n     <use style=\"fill:#0000ff;stroke:#0000ff;\" x=\"131.18687\" xlink:href=\"#m9bf403d814\" y=\"247.217553\"/>\n     <use style=\"fill:#0000ff;stroke:#0000ff;\" x=\"193.455917\" xlink:href=\"#m9bf403d814\" y=\"476.789993\"/>\n     <use style=\"fill:#0000ff;stroke:#0000ff;\" x=\"80.446222\" xlink:href=\"#m9bf403d814\" y=\"521.319568\"/>\n     <use style=\"fill:#0000ff;stroke:#0000ff;\" x=\"149.064811\" xlink:href=\"#m9bf403d814\" y=\"291.331527\"/>\n     <use style=\"fill:#0000ff;stroke:#0000ff;\" x=\"422.673064\" xlink:href=\"#m9bf403d814\" y=\"164.60037\"/>\n     <use style=\"fill:#0000ff;stroke:#0000ff;\" x=\"270.685178\" xlink:href=\"#m9bf403d814\" y=\"316.543988\"/>\n     <use style=\"fill:#0000ff;stroke:#0000ff;\" x=\"532.559943\" xlink:href=\"#m9bf403d814\" y=\"208.903482\"/>\n    </g>\n   </g>\n   <g id=\"matplotlib.axis_1\">\n    <g id=\"xtick_1\">\n     <g id=\"line2d_1\">\n      <defs>\n       <path d=\"M 0 0 \nL 0 -8 \n\" id=\"maac8010ec8\" style=\"stroke:#000000;stroke-width:0.8;\"/>\n      </defs>\n      <g>\n       <use style=\"stroke:#000000;stroke-width:0.8;\" x=\"90.578337\" xlink:href=\"#maac8010ec8\" y=\"658.8\"/>\n      </g>\n     </g>\n     <g id=\"line2d_2\">\n      <defs>\n       <path d=\"M 0 0 \nL 0 8 \n\" id=\"mdefa1d105c\" style=\"stroke:#000000;stroke-width:0.8;\"/>\n      </defs>\n      <g>\n       <use style=\"stroke:#000000;stroke-width:0.8;\" x=\"90.578337\" xlink:href=\"#mdefa1d105c\" y=\"118.8\"/>\n      </g>\n     </g>\n     <g id=\"text_1\">\n      <!-- $\\mathdefault{0.1}$ -->\n      <g transform=\"translate(79.915305 674.7533)scale(0.18 -0.18)\">\n       <defs>\n        <path d=\"M 2688 2038 \nC 2688 2430 2682 3099 2413 3613 \nC 2176 4063 1798 4224 1466 4224 \nC 1158 4224 768 4082 525 3620 \nC 269 3137 243 2539 243 2038 \nC 243 1671 250 1112 448 623 \nC 723 -39 1216 -128 1466 -128 \nC 1760 -128 2208 -7 2470 604 \nC 2662 1048 2688 1568 2688 2038 \nz\nM 1466 -26 \nC 1056 -26 813 328 723 816 \nC 653 1196 653 1749 653 2109 \nC 653 2604 653 3015 736 3407 \nC 858 3954 1216 4121 1466 4121 \nC 1728 4121 2067 3947 2189 3420 \nC 2272 3054 2278 2623 2278 2109 \nC 2278 1691 2278 1176 2202 797 \nC 2067 96 1690 -26 1466 -26 \nz\n\" id=\"CMR17-30\" transform=\"scale(0.015625)\"/>\n        <path d=\"M 1178 307 \nC 1178 492 1024 620 870 620 \nC 685 620 557 467 557 313 \nC 557 128 710 0 864 0 \nC 1050 0 1178 153 1178 307 \nz\n\" id=\"CMMI12-3a\" transform=\"scale(0.015625)\"/>\n        <path d=\"M 1702 4083 \nC 1702 4217 1696 4224 1606 4224 \nC 1357 3927 979 3833 621 3820 \nC 602 3820 570 3820 563 3808 \nC 557 3795 557 3782 557 3648 \nC 755 3648 1088 3686 1344 3839 \nL 1344 467 \nC 1344 243 1331 166 781 166 \nL 589 166 \nL 589 0 \nC 896 6 1216 12 1523 12 \nC 1830 12 2150 6 2458 0 \nL 2458 166 \nL 2266 166 \nC 1715 166 1702 236 1702 467 \nL 1702 4083 \nz\n\" id=\"CMR17-31\" transform=\"scale(0.015625)\"/>\n       </defs>\n       <use transform=\"scale(0.996264)\" xlink:href=\"#CMR17-30\"/>\n       <use transform=\"translate(45.690477 0)scale(0.996264)\" xlink:href=\"#CMMI12-3a\"/>\n       <use transform=\"translate(72.787654 0)scale(0.996264)\" xlink:href=\"#CMR17-31\"/>\n      </g>\n     </g>\n    </g>\n    <g id=\"xtick_2\">\n     <g id=\"line2d_3\">\n      <g>\n       <use style=\"stroke:#000000;stroke-width:0.8;\" x=\"160.273618\" xlink:href=\"#maac8010ec8\" y=\"658.8\"/>\n      </g>\n     </g>\n     <g id=\"line2d_4\">\n      <g>\n       <use style=\"stroke:#000000;stroke-width:0.8;\" x=\"160.273618\" xlink:href=\"#mdefa1d105c\" y=\"118.8\"/>\n      </g>\n     </g>\n     <g id=\"text_2\">\n      <!-- $\\mathdefault{0.2}$ -->\n      <g transform=\"translate(149.610586 674.7533)scale(0.18 -0.18)\">\n       <defs>\n        <path d=\"M 2669 990 \nL 2554 990 \nC 2490 537 2438 460 2413 422 \nC 2381 371 1920 371 1830 371 \nL 602 371 \nC 832 620 1280 1073 1824 1596 \nC 2214 1966 2669 2400 2669 3033 \nC 2669 3788 2067 4224 1395 4224 \nC 691 4224 262 3603 262 3027 \nC 262 2777 448 2745 525 2745 \nC 589 2745 781 2783 781 3007 \nC 781 3206 614 3264 525 3264 \nC 486 3264 448 3257 422 3244 \nC 544 3788 915 4057 1306 4057 \nC 1862 4057 2227 3616 2227 3033 \nC 2227 2477 1901 1998 1536 1583 \nL 262 147 \nL 262 0 \nL 2515 0 \nL 2669 990 \nz\n\" id=\"CMR17-32\" transform=\"scale(0.015625)\"/>\n       </defs>\n       <use transform=\"scale(0.996264)\" xlink:href=\"#CMR17-30\"/>\n       <use transform=\"translate(45.690477 0)scale(0.996264)\" xlink:href=\"#CMMI12-3a\"/>\n       <use transform=\"translate(72.787654 0)scale(0.996264)\" xlink:href=\"#CMR17-32\"/>\n      </g>\n     </g>\n    </g>\n    <g id=\"xtick_3\">\n     <g id=\"line2d_5\">\n      <g>\n       <use style=\"stroke:#000000;stroke-width:0.8;\" x=\"229.968899\" xlink:href=\"#maac8010ec8\" y=\"658.8\"/>\n      </g>\n     </g>\n     <g id=\"line2d_6\">\n      <g>\n       <use style=\"stroke:#000000;stroke-width:0.8;\" x=\"229.968899\" xlink:href=\"#mdefa1d105c\" y=\"118.8\"/>\n      </g>\n     </g>\n     <g id=\"text_3\">\n      <!-- $\\mathdefault{0.3}$ -->\n      <g transform=\"translate(219.305867 674.7533)scale(0.18 -0.18)\">\n       <defs>\n        <path d=\"M 1414 2176 \nC 1984 2176 2234 1673 2234 1094 \nC 2234 322 1824 25 1453 25 \nC 1114 25 563 193 390 691 \nC 422 678 454 678 486 678 \nC 640 678 755 780 755 947 \nC 755 1132 614 1216 486 1216 \nC 378 1216 211 1164 211 927 \nC 211 335 787 -128 1466 -128 \nC 2176 -128 2720 432 2720 1087 \nC 2720 1718 2208 2176 1600 2246 \nC 2086 2347 2554 2776 2554 3353 \nC 2554 3856 2048 4224 1472 4224 \nC 890 4224 378 3862 378 3347 \nC 378 3123 544 3084 627 3084 \nC 762 3084 877 3167 877 3334 \nC 877 3500 762 3584 627 3584 \nC 602 3584 570 3584 544 3571 \nC 730 3999 1235 4076 1459 4076 \nC 1683 4076 2106 3966 2106 3347 \nC 2106 3167 2080 2851 1862 2574 \nC 1670 2329 1453 2316 1242 2297 \nC 1210 2297 1062 2284 1037 2284 \nC 992 2278 966 2272 966 2227 \nC 966 2182 973 2176 1101 2176 \nL 1414 2176 \nz\n\" id=\"CMR17-33\" transform=\"scale(0.015625)\"/>\n       </defs>\n       <use transform=\"scale(0.996264)\" xlink:href=\"#CMR17-30\"/>\n       <use transform=\"translate(45.690477 0)scale(0.996264)\" xlink:href=\"#CMMI12-3a\"/>\n       <use transform=\"translate(72.787654 0)scale(0.996264)\" xlink:href=\"#CMR17-33\"/>\n      </g>\n     </g>\n    </g>\n    <g id=\"xtick_4\">\n     <g id=\"line2d_7\">\n      <g>\n       <use style=\"stroke:#000000;stroke-width:0.8;\" x=\"299.66418\" xlink:href=\"#maac8010ec8\" y=\"658.8\"/>\n      </g>\n     </g>\n     <g id=\"line2d_8\">\n      <g>\n       <use style=\"stroke:#000000;stroke-width:0.8;\" x=\"299.66418\" xlink:href=\"#mdefa1d105c\" y=\"118.8\"/>\n      </g>\n     </g>\n     <g id=\"text_4\">\n      <!-- $\\mathdefault{0.4}$ -->\n      <g transform=\"translate(289.001148 674.7533)scale(0.18 -0.18)\">\n       <defs>\n        <path d=\"M 2150 4147 \nC 2150 4281 2144 4288 2029 4288 \nL 128 1254 \nL 128 1088 \nL 1779 1088 \nL 1779 460 \nC 1779 230 1766 166 1318 166 \nL 1197 166 \nL 1197 0 \nC 1402 12 1747 12 1965 12 \nC 2182 12 2528 12 2733 0 \nL 2733 166 \nL 2611 166 \nC 2163 166 2150 230 2150 460 \nL 2150 1088 \nL 2803 1088 \nL 2803 1254 \nL 2150 1254 \nL 2150 4147 \nz\nM 1798 3723 \nL 1798 1254 \nL 256 1254 \nL 1798 3723 \nz\n\" id=\"CMR17-34\" transform=\"scale(0.015625)\"/>\n       </defs>\n       <use transform=\"scale(0.996264)\" xlink:href=\"#CMR17-30\"/>\n       <use transform=\"translate(45.690477 0)scale(0.996264)\" xlink:href=\"#CMMI12-3a\"/>\n       <use transform=\"translate(72.787654 0)scale(0.996264)\" xlink:href=\"#CMR17-34\"/>\n      </g>\n     </g>\n    </g>\n    <g id=\"xtick_5\">\n     <g id=\"line2d_9\">\n      <g>\n       <use style=\"stroke:#000000;stroke-width:0.8;\" x=\"369.35946\" xlink:href=\"#maac8010ec8\" y=\"658.8\"/>\n      </g>\n     </g>\n     <g id=\"line2d_10\">\n      <g>\n       <use style=\"stroke:#000000;stroke-width:0.8;\" x=\"369.35946\" xlink:href=\"#mdefa1d105c\" y=\"118.8\"/>\n      </g>\n     </g>\n     <g id=\"text_5\">\n      <!-- $\\mathdefault{0.5}$ -->\n      <g transform=\"translate(358.696429 674.7533)scale(0.18 -0.18)\">\n       <defs>\n        <path d=\"M 730 3750 \nC 794 3724 1056 3641 1325 3641 \nC 1920 3641 2246 3961 2432 4140 \nC 2432 4191 2432 4224 2394 4224 \nC 2387 4224 2374 4224 2323 4198 \nC 2099 4102 1837 4032 1517 4032 \nC 1325 4032 1037 4055 723 4191 \nC 653 4224 640 4224 634 4224 \nC 602 4224 595 4217 595 4090 \nL 595 2231 \nC 595 2113 595 2080 659 2080 \nC 691 2080 704 2093 736 2139 \nC 941 2435 1222 2560 1542 2560 \nC 1766 2560 2246 2415 2246 1293 \nC 2246 1087 2246 716 2054 422 \nC 1894 159 1645 25 1370 25 \nC 947 25 518 319 403 812 \nC 429 806 480 793 506 793 \nC 589 793 749 838 749 1036 \nC 749 1209 627 1280 506 1280 \nC 358 1280 262 1190 262 1011 \nC 262 454 704 -128 1382 -128 \nC 2042 -128 2669 441 2669 1267 \nC 2669 2054 2170 2662 1549 2662 \nC 1222 2662 947 2540 730 2304 \nL 730 3750 \nz\n\" id=\"CMR17-35\" transform=\"scale(0.015625)\"/>\n       </defs>\n       <use transform=\"scale(0.996264)\" xlink:href=\"#CMR17-30\"/>\n       <use transform=\"translate(45.690477 0)scale(0.996264)\" xlink:href=\"#CMMI12-3a\"/>\n       <use transform=\"translate(72.787654 0)scale(0.996264)\" xlink:href=\"#CMR17-35\"/>\n      </g>\n     </g>\n    </g>\n    <g id=\"xtick_6\">\n     <g id=\"line2d_11\">\n      <g>\n       <use style=\"stroke:#000000;stroke-width:0.8;\" x=\"439.054741\" xlink:href=\"#maac8010ec8\" y=\"658.8\"/>\n      </g>\n     </g>\n     <g id=\"line2d_12\">\n      <g>\n       <use style=\"stroke:#000000;stroke-width:0.8;\" x=\"439.054741\" xlink:href=\"#mdefa1d105c\" y=\"118.8\"/>\n      </g>\n     </g>\n     <g id=\"text_6\">\n      <!-- $\\mathdefault{0.6}$ -->\n      <g transform=\"translate(428.391709 674.7533)scale(0.18 -0.18)\">\n       <defs>\n        <path d=\"M 678 2198 \nC 678 3712 1395 4076 1811 4076 \nC 1946 4076 2272 4049 2400 3782 \nC 2298 3782 2106 3782 2106 3558 \nC 2106 3385 2246 3328 2336 3328 \nC 2394 3328 2566 3353 2566 3571 \nC 2566 3987 2246 4224 1805 4224 \nC 1043 4224 243 3411 243 2011 \nC 243 257 966 -128 1478 -128 \nC 2099 -128 2688 431 2688 1295 \nC 2688 2101 2170 2688 1517 2688 \nC 1126 2688 838 2430 678 1979 \nL 678 2198 \nz\nM 1478 25 \nC 691 25 691 1212 691 1450 \nC 691 1914 909 2585 1504 2585 \nC 1613 2585 1926 2585 2138 2140 \nC 2253 1889 2253 1624 2253 1302 \nC 2253 954 2253 696 2118 438 \nC 1978 173 1773 25 1478 25 \nz\n\" id=\"CMR17-36\" transform=\"scale(0.015625)\"/>\n       </defs>\n       <use transform=\"scale(0.996264)\" xlink:href=\"#CMR17-30\"/>\n       <use transform=\"translate(45.690477 0)scale(0.996264)\" xlink:href=\"#CMMI12-3a\"/>\n       <use transform=\"translate(72.787654 0)scale(0.996264)\" xlink:href=\"#CMR17-36\"/>\n      </g>\n     </g>\n    </g>\n    <g id=\"xtick_7\">\n     <g id=\"line2d_13\">\n      <g>\n       <use style=\"stroke:#000000;stroke-width:0.8;\" x=\"508.750022\" xlink:href=\"#maac8010ec8\" y=\"658.8\"/>\n      </g>\n     </g>\n     <g id=\"line2d_14\">\n      <g>\n       <use style=\"stroke:#000000;stroke-width:0.8;\" x=\"508.750022\" xlink:href=\"#mdefa1d105c\" y=\"118.8\"/>\n      </g>\n     </g>\n     <g id=\"text_7\">\n      <!-- $\\mathdefault{0.7}$ -->\n      <g transform=\"translate(498.08699 674.7533)scale(0.18 -0.18)\">\n       <defs>\n        <path d=\"M 2886 3955 \nL 2886 4096 \nL 1382 4096 \nC 634 4096 621 4166 595 4288 \nL 480 4288 \nL 294 3104 \nL 410 3104 \nC 429 3226 474 3552 550 3673 \nC 589 3724 1062 3724 1171 3724 \nL 2579 3724 \nL 1869 2670 \nC 1395 1961 1069 1003 1069 166 \nC 1069 89 1069 -128 1299 -128 \nC 1530 -128 1530 89 1530 172 \nL 1530 466 \nC 1530 1514 1709 2204 2003 2644 \nL 2886 3955 \nz\n\" id=\"CMR17-37\" transform=\"scale(0.015625)\"/>\n       </defs>\n       <use transform=\"scale(0.996264)\" xlink:href=\"#CMR17-30\"/>\n       <use transform=\"translate(45.690477 0)scale(0.996264)\" xlink:href=\"#CMMI12-3a\"/>\n       <use transform=\"translate(72.787654 0)scale(0.996264)\" xlink:href=\"#CMR17-37\"/>\n      </g>\n     </g>\n    </g>\n    <g id=\"xtick_8\">\n     <g id=\"line2d_15\">\n      <g>\n       <use style=\"stroke:#000000;stroke-width:0.8;\" x=\"578.445303\" xlink:href=\"#maac8010ec8\" y=\"658.8\"/>\n      </g>\n     </g>\n     <g id=\"line2d_16\">\n      <g>\n       <use style=\"stroke:#000000;stroke-width:0.8;\" x=\"578.445303\" xlink:href=\"#mdefa1d105c\" y=\"118.8\"/>\n      </g>\n     </g>\n     <g id=\"text_8\">\n      <!-- $\\mathdefault{0.8}$ -->\n      <g transform=\"translate(567.782271 674.7533)scale(0.18 -0.18)\">\n       <defs>\n        <path d=\"M 1741 2289 \nC 2144 2494 2554 2803 2554 3298 \nC 2554 3884 1990 4224 1472 4224 \nC 890 4224 378 3800 378 3215 \nC 378 3054 416 2777 666 2533 \nC 730 2469 998 2276 1171 2154 \nC 883 2006 211 1652 211 945 \nC 211 282 838 -128 1459 -128 \nC 2144 -128 2720 366 2720 1022 \nC 2720 1607 2330 1877 2074 2051 \nL 1741 2289 \nz\nM 902 2855 \nC 851 2887 595 3086 595 3388 \nC 595 3781 998 4076 1459 4076 \nC 1965 4076 2336 3716 2336 3298 \nC 2336 2700 1670 2359 1638 2359 \nC 1632 2359 1626 2359 1574 2398 \nL 902 2855 \nz\nM 2080 1536 \nC 2176 1466 2483 1253 2483 861 \nC 2483 385 2010 25 1472 25 \nC 890 25 448 443 448 951 \nC 448 1459 838 1884 1280 2083 \nL 2080 1536 \nz\n\" id=\"CMR17-38\" transform=\"scale(0.015625)\"/>\n       </defs>\n       <use transform=\"scale(0.996264)\" xlink:href=\"#CMR17-30\"/>\n       <use transform=\"translate(45.690477 0)scale(0.996264)\" xlink:href=\"#CMMI12-3a\"/>\n       <use transform=\"translate(72.787654 0)scale(0.996264)\" xlink:href=\"#CMR17-38\"/>\n      </g>\n     </g>\n    </g>\n    <g id=\"xtick_9\">\n     <g id=\"line2d_17\">\n      <defs>\n       <path d=\"M 0 0 \nL 0 -4 \n\" id=\"mc9f7317653\" style=\"stroke:#000000;stroke-width:0.6;\"/>\n      </defs>\n      <g>\n       <use style=\"stroke:#000000;stroke-width:0.6;\" x=\"62.700225\" xlink:href=\"#mc9f7317653\" y=\"658.8\"/>\n      </g>\n     </g>\n     <g id=\"line2d_18\">\n      <defs>\n       <path d=\"M 0 0 \nL 0 4 \n\" id=\"mf80cf155a6\" style=\"stroke:#000000;stroke-width:0.6;\"/>\n      </defs>\n      <g>\n       <use style=\"stroke:#000000;stroke-width:0.6;\" x=\"62.700225\" xlink:href=\"#mf80cf155a6\" y=\"118.8\"/>\n      </g>\n     </g>\n    </g>\n    <g id=\"xtick_10\">\n     <g id=\"line2d_19\">\n      <g>\n       <use style=\"stroke:#000000;stroke-width:0.6;\" x=\"76.639281\" xlink:href=\"#mc9f7317653\" y=\"658.8\"/>\n      </g>\n     </g>\n     <g id=\"line2d_20\">\n      <g>\n       <use style=\"stroke:#000000;stroke-width:0.6;\" x=\"76.639281\" xlink:href=\"#mf80cf155a6\" y=\"118.8\"/>\n      </g>\n     </g>\n    </g>\n    <g id=\"xtick_11\">\n     <g id=\"line2d_21\">\n      <g>\n       <use style=\"stroke:#000000;stroke-width:0.6;\" x=\"104.517393\" xlink:href=\"#mc9f7317653\" y=\"658.8\"/>\n      </g>\n     </g>\n     <g id=\"line2d_22\">\n      <g>\n       <use style=\"stroke:#000000;stroke-width:0.6;\" x=\"104.517393\" xlink:href=\"#mf80cf155a6\" y=\"118.8\"/>\n      </g>\n     </g>\n    </g>\n    <g id=\"xtick_12\">\n     <g id=\"line2d_23\">\n      <g>\n       <use style=\"stroke:#000000;stroke-width:0.6;\" x=\"118.456449\" xlink:href=\"#mc9f7317653\" y=\"658.8\"/>\n      </g>\n     </g>\n     <g id=\"line2d_24\">\n      <g>\n       <use style=\"stroke:#000000;stroke-width:0.6;\" x=\"118.456449\" xlink:href=\"#mf80cf155a6\" y=\"118.8\"/>\n      </g>\n     </g>\n    </g>\n    <g id=\"xtick_13\">\n     <g id=\"line2d_25\">\n      <g>\n       <use style=\"stroke:#000000;stroke-width:0.6;\" x=\"132.395506\" xlink:href=\"#mc9f7317653\" y=\"658.8\"/>\n      </g>\n     </g>\n     <g id=\"line2d_26\">\n      <g>\n       <use style=\"stroke:#000000;stroke-width:0.6;\" x=\"132.395506\" xlink:href=\"#mf80cf155a6\" y=\"118.8\"/>\n      </g>\n     </g>\n    </g>\n    <g id=\"xtick_14\">\n     <g id=\"line2d_27\">\n      <g>\n       <use style=\"stroke:#000000;stroke-width:0.6;\" x=\"146.334562\" xlink:href=\"#mc9f7317653\" y=\"658.8\"/>\n      </g>\n     </g>\n     <g id=\"line2d_28\">\n      <g>\n       <use style=\"stroke:#000000;stroke-width:0.6;\" x=\"146.334562\" xlink:href=\"#mf80cf155a6\" y=\"118.8\"/>\n      </g>\n     </g>\n    </g>\n    <g id=\"xtick_15\">\n     <g id=\"line2d_29\">\n      <g>\n       <use style=\"stroke:#000000;stroke-width:0.6;\" x=\"174.212674\" xlink:href=\"#mc9f7317653\" y=\"658.8\"/>\n      </g>\n     </g>\n     <g id=\"line2d_30\">\n      <g>\n       <use style=\"stroke:#000000;stroke-width:0.6;\" x=\"174.212674\" xlink:href=\"#mf80cf155a6\" y=\"118.8\"/>\n      </g>\n     </g>\n    </g>\n    <g id=\"xtick_16\">\n     <g id=\"line2d_31\">\n      <g>\n       <use style=\"stroke:#000000;stroke-width:0.6;\" x=\"188.15173\" xlink:href=\"#mc9f7317653\" y=\"658.8\"/>\n      </g>\n     </g>\n     <g id=\"line2d_32\">\n      <g>\n       <use style=\"stroke:#000000;stroke-width:0.6;\" x=\"188.15173\" xlink:href=\"#mf80cf155a6\" y=\"118.8\"/>\n      </g>\n     </g>\n    </g>\n    <g id=\"xtick_17\">\n     <g id=\"line2d_33\">\n      <g>\n       <use style=\"stroke:#000000;stroke-width:0.6;\" x=\"202.090786\" xlink:href=\"#mc9f7317653\" y=\"658.8\"/>\n      </g>\n     </g>\n     <g id=\"line2d_34\">\n      <g>\n       <use style=\"stroke:#000000;stroke-width:0.6;\" x=\"202.090786\" xlink:href=\"#mf80cf155a6\" y=\"118.8\"/>\n      </g>\n     </g>\n    </g>\n    <g id=\"xtick_18\">\n     <g id=\"line2d_35\">\n      <g>\n       <use style=\"stroke:#000000;stroke-width:0.6;\" x=\"216.029843\" xlink:href=\"#mc9f7317653\" y=\"658.8\"/>\n      </g>\n     </g>\n     <g id=\"line2d_36\">\n      <g>\n       <use style=\"stroke:#000000;stroke-width:0.6;\" x=\"216.029843\" xlink:href=\"#mf80cf155a6\" y=\"118.8\"/>\n      </g>\n     </g>\n    </g>\n    <g id=\"xtick_19\">\n     <g id=\"line2d_37\">\n      <g>\n       <use style=\"stroke:#000000;stroke-width:0.6;\" x=\"243.907955\" xlink:href=\"#mc9f7317653\" y=\"658.8\"/>\n      </g>\n     </g>\n     <g id=\"line2d_38\">\n      <g>\n       <use style=\"stroke:#000000;stroke-width:0.6;\" x=\"243.907955\" xlink:href=\"#mf80cf155a6\" y=\"118.8\"/>\n      </g>\n     </g>\n    </g>\n    <g id=\"xtick_20\">\n     <g id=\"line2d_39\">\n      <g>\n       <use style=\"stroke:#000000;stroke-width:0.6;\" x=\"257.847011\" xlink:href=\"#mc9f7317653\" y=\"658.8\"/>\n      </g>\n     </g>\n     <g id=\"line2d_40\">\n      <g>\n       <use style=\"stroke:#000000;stroke-width:0.6;\" x=\"257.847011\" xlink:href=\"#mf80cf155a6\" y=\"118.8\"/>\n      </g>\n     </g>\n    </g>\n    <g id=\"xtick_21\">\n     <g id=\"line2d_41\">\n      <g>\n       <use style=\"stroke:#000000;stroke-width:0.6;\" x=\"271.786067\" xlink:href=\"#mc9f7317653\" y=\"658.8\"/>\n      </g>\n     </g>\n     <g id=\"line2d_42\">\n      <g>\n       <use style=\"stroke:#000000;stroke-width:0.6;\" x=\"271.786067\" xlink:href=\"#mf80cf155a6\" y=\"118.8\"/>\n      </g>\n     </g>\n    </g>\n    <g id=\"xtick_22\">\n     <g id=\"line2d_43\">\n      <g>\n       <use style=\"stroke:#000000;stroke-width:0.6;\" x=\"285.725123\" xlink:href=\"#mc9f7317653\" y=\"658.8\"/>\n      </g>\n     </g>\n     <g id=\"line2d_44\">\n      <g>\n       <use style=\"stroke:#000000;stroke-width:0.6;\" x=\"285.725123\" xlink:href=\"#mf80cf155a6\" y=\"118.8\"/>\n      </g>\n     </g>\n    </g>\n    <g id=\"xtick_23\">\n     <g id=\"line2d_45\">\n      <g>\n       <use style=\"stroke:#000000;stroke-width:0.6;\" x=\"313.603236\" xlink:href=\"#mc9f7317653\" y=\"658.8\"/>\n      </g>\n     </g>\n     <g id=\"line2d_46\">\n      <g>\n       <use style=\"stroke:#000000;stroke-width:0.6;\" x=\"313.603236\" xlink:href=\"#mf80cf155a6\" y=\"118.8\"/>\n      </g>\n     </g>\n    </g>\n    <g id=\"xtick_24\">\n     <g id=\"line2d_47\">\n      <g>\n       <use style=\"stroke:#000000;stroke-width:0.6;\" x=\"327.542292\" xlink:href=\"#mc9f7317653\" y=\"658.8\"/>\n      </g>\n     </g>\n     <g id=\"line2d_48\">\n      <g>\n       <use style=\"stroke:#000000;stroke-width:0.6;\" x=\"327.542292\" xlink:href=\"#mf80cf155a6\" y=\"118.8\"/>\n      </g>\n     </g>\n    </g>\n    <g id=\"xtick_25\">\n     <g id=\"line2d_49\">\n      <g>\n       <use style=\"stroke:#000000;stroke-width:0.6;\" x=\"341.481348\" xlink:href=\"#mc9f7317653\" y=\"658.8\"/>\n      </g>\n     </g>\n     <g id=\"line2d_50\">\n      <g>\n       <use style=\"stroke:#000000;stroke-width:0.6;\" x=\"341.481348\" xlink:href=\"#mf80cf155a6\" y=\"118.8\"/>\n      </g>\n     </g>\n    </g>\n    <g id=\"xtick_26\">\n     <g id=\"line2d_51\">\n      <g>\n       <use style=\"stroke:#000000;stroke-width:0.6;\" x=\"355.420404\" xlink:href=\"#mc9f7317653\" y=\"658.8\"/>\n      </g>\n     </g>\n     <g id=\"line2d_52\">\n      <g>\n       <use style=\"stroke:#000000;stroke-width:0.6;\" x=\"355.420404\" xlink:href=\"#mf80cf155a6\" y=\"118.8\"/>\n      </g>\n     </g>\n    </g>\n    <g id=\"xtick_27\">\n     <g id=\"line2d_53\">\n      <g>\n       <use style=\"stroke:#000000;stroke-width:0.6;\" x=\"383.298517\" xlink:href=\"#mc9f7317653\" y=\"658.8\"/>\n      </g>\n     </g>\n     <g id=\"line2d_54\">\n      <g>\n       <use style=\"stroke:#000000;stroke-width:0.6;\" x=\"383.298517\" xlink:href=\"#mf80cf155a6\" y=\"118.8\"/>\n      </g>\n     </g>\n    </g>\n    <g id=\"xtick_28\">\n     <g id=\"line2d_55\">\n      <g>\n       <use style=\"stroke:#000000;stroke-width:0.6;\" x=\"397.237573\" xlink:href=\"#mc9f7317653\" y=\"658.8\"/>\n      </g>\n     </g>\n     <g id=\"line2d_56\">\n      <g>\n       <use style=\"stroke:#000000;stroke-width:0.6;\" x=\"397.237573\" xlink:href=\"#mf80cf155a6\" y=\"118.8\"/>\n      </g>\n     </g>\n    </g>\n    <g id=\"xtick_29\">\n     <g id=\"line2d_57\">\n      <g>\n       <use style=\"stroke:#000000;stroke-width:0.6;\" x=\"411.176629\" xlink:href=\"#mc9f7317653\" y=\"658.8\"/>\n      </g>\n     </g>\n     <g id=\"line2d_58\">\n      <g>\n       <use style=\"stroke:#000000;stroke-width:0.6;\" x=\"411.176629\" xlink:href=\"#mf80cf155a6\" y=\"118.8\"/>\n      </g>\n     </g>\n    </g>\n    <g id=\"xtick_30\">\n     <g id=\"line2d_59\">\n      <g>\n       <use style=\"stroke:#000000;stroke-width:0.6;\" x=\"425.115685\" xlink:href=\"#mc9f7317653\" y=\"658.8\"/>\n      </g>\n     </g>\n     <g id=\"line2d_60\">\n      <g>\n       <use style=\"stroke:#000000;stroke-width:0.6;\" x=\"425.115685\" xlink:href=\"#mf80cf155a6\" y=\"118.8\"/>\n      </g>\n     </g>\n    </g>\n    <g id=\"xtick_31\">\n     <g id=\"line2d_61\">\n      <g>\n       <use style=\"stroke:#000000;stroke-width:0.6;\" x=\"452.993797\" xlink:href=\"#mc9f7317653\" y=\"658.8\"/>\n      </g>\n     </g>\n     <g id=\"line2d_62\">\n      <g>\n       <use style=\"stroke:#000000;stroke-width:0.6;\" x=\"452.993797\" xlink:href=\"#mf80cf155a6\" y=\"118.8\"/>\n      </g>\n     </g>\n    </g>\n    <g id=\"xtick_32\">\n     <g id=\"line2d_63\">\n      <g>\n       <use style=\"stroke:#000000;stroke-width:0.6;\" x=\"466.932854\" xlink:href=\"#mc9f7317653\" y=\"658.8\"/>\n      </g>\n     </g>\n     <g id=\"line2d_64\">\n      <g>\n       <use style=\"stroke:#000000;stroke-width:0.6;\" x=\"466.932854\" xlink:href=\"#mf80cf155a6\" y=\"118.8\"/>\n      </g>\n     </g>\n    </g>\n    <g id=\"xtick_33\">\n     <g id=\"line2d_65\">\n      <g>\n       <use style=\"stroke:#000000;stroke-width:0.6;\" x=\"480.87191\" xlink:href=\"#mc9f7317653\" y=\"658.8\"/>\n      </g>\n     </g>\n     <g id=\"line2d_66\">\n      <g>\n       <use style=\"stroke:#000000;stroke-width:0.6;\" x=\"480.87191\" xlink:href=\"#mf80cf155a6\" y=\"118.8\"/>\n      </g>\n     </g>\n    </g>\n    <g id=\"xtick_34\">\n     <g id=\"line2d_67\">\n      <g>\n       <use style=\"stroke:#000000;stroke-width:0.6;\" x=\"494.810966\" xlink:href=\"#mc9f7317653\" y=\"658.8\"/>\n      </g>\n     </g>\n     <g id=\"line2d_68\">\n      <g>\n       <use style=\"stroke:#000000;stroke-width:0.6;\" x=\"494.810966\" xlink:href=\"#mf80cf155a6\" y=\"118.8\"/>\n      </g>\n     </g>\n    </g>\n    <g id=\"xtick_35\">\n     <g id=\"line2d_69\">\n      <g>\n       <use style=\"stroke:#000000;stroke-width:0.6;\" x=\"522.689078\" xlink:href=\"#mc9f7317653\" y=\"658.8\"/>\n      </g>\n     </g>\n     <g id=\"line2d_70\">\n      <g>\n       <use style=\"stroke:#000000;stroke-width:0.6;\" x=\"522.689078\" xlink:href=\"#mf80cf155a6\" y=\"118.8\"/>\n      </g>\n     </g>\n    </g>\n    <g id=\"xtick_36\">\n     <g id=\"line2d_71\">\n      <g>\n       <use style=\"stroke:#000000;stroke-width:0.6;\" x=\"536.628134\" xlink:href=\"#mc9f7317653\" y=\"658.8\"/>\n      </g>\n     </g>\n     <g id=\"line2d_72\">\n      <g>\n       <use style=\"stroke:#000000;stroke-width:0.6;\" x=\"536.628134\" xlink:href=\"#mf80cf155a6\" y=\"118.8\"/>\n      </g>\n     </g>\n    </g>\n    <g id=\"xtick_37\">\n     <g id=\"line2d_73\">\n      <g>\n       <use style=\"stroke:#000000;stroke-width:0.6;\" x=\"550.567191\" xlink:href=\"#mc9f7317653\" y=\"658.8\"/>\n      </g>\n     </g>\n     <g id=\"line2d_74\">\n      <g>\n       <use style=\"stroke:#000000;stroke-width:0.6;\" x=\"550.567191\" xlink:href=\"#mf80cf155a6\" y=\"118.8\"/>\n      </g>\n     </g>\n    </g>\n    <g id=\"xtick_38\">\n     <g id=\"line2d_75\">\n      <g>\n       <use style=\"stroke:#000000;stroke-width:0.6;\" x=\"564.506247\" xlink:href=\"#mc9f7317653\" y=\"658.8\"/>\n      </g>\n     </g>\n     <g id=\"line2d_76\">\n      <g>\n       <use style=\"stroke:#000000;stroke-width:0.6;\" x=\"564.506247\" xlink:href=\"#mf80cf155a6\" y=\"118.8\"/>\n      </g>\n     </g>\n    </g>\n    <g id=\"xtick_39\">\n     <g id=\"line2d_77\">\n      <g>\n       <use style=\"stroke:#000000;stroke-width:0.6;\" x=\"592.384359\" xlink:href=\"#mc9f7317653\" y=\"658.8\"/>\n      </g>\n     </g>\n     <g id=\"line2d_78\">\n      <g>\n       <use style=\"stroke:#000000;stroke-width:0.6;\" x=\"592.384359\" xlink:href=\"#mf80cf155a6\" y=\"118.8\"/>\n      </g>\n     </g>\n    </g>\n    <g id=\"text_9\">\n     <!-- $\\eta/\\mathcal S$ -->\n     <g transform=\"translate(306.603769 700.174116)scale(0.24 -0.24)\">\n      <defs>\n       <path d=\"M 3040 1768 \nC 3072 1896 3091 1973 3091 2145 \nC 3091 2528 2867 2816 2381 2816 \nC 1811 2816 1510 2413 1395 2253 \nC 1376 2617 1114 2816 832 2816 \nC 646 2816 499 2726 378 2483 \nC 262 2253 173 1864 173 1838 \nC 173 1813 198 1781 243 1781 \nC 294 1781 301 1787 339 1934 \nC 435 2311 557 2687 813 2687 \nC 960 2687 1011 2586 1011 2394 \nC 1011 2253 947 2004 902 1807 \nL 723 1117 \nC 698 996 627 708 595 593 \nC 550 427 480 127 480 95 \nC 480 6 550 -64 646 -64 \nC 723 -64 813 -26 864 70 \nC 877 102 934 325 966 453 \nL 1107 1028 \nL 1318 1870 \nC 1331 1909 1491 2228 1728 2432 \nC 1894 2586 2112 2687 2362 2687 \nC 2618 2687 2707 2496 2707 2241 \nC 2707 2056 2682 1953 2650 1832 \nL 1907 -1085 \nC 1901 -1116 1888 -1154 1888 -1191 \nC 1888 -1287 1965 -1351 2061 -1351 \nC 2118 -1351 2253 -1325 2304 -1135 \nL 3040 1768 \nz\n\" id=\"CMMI12-11\" transform=\"scale(0.015625)\"/>\n       <path d=\"M 2746 4563 \nC 2746 4569 2784 4665 2784 4678 \nC 2784 4755 2720 4800 2669 4800 \nC 2637 4800 2579 4800 2528 4659 \nL 384 -1364 \nC 384 -1370 346 -1466 346 -1479 \nC 346 -1556 410 -1600 461 -1600 \nC 499 -1600 557 -1594 602 -1460 \nL 2746 4563 \nz\n\" id=\"CMMI12-3d\" transform=\"scale(0.015625)\"/>\n       <path d=\"M 736 1420 \nC 813 1452 1037 1593 1037 1683 \nC 1037 1728 998 1728 960 1728 \nC 742 1728 115 1452 115 809 \nC 115 346 634 -128 1414 -128 \nC 2458 -128 3667 597 3667 1471 \nC 3667 2082 3027 2378 2509 2609 \nC 2061 2815 1766 3079 1766 3445 \nC 1766 3580 1824 3831 2022 4005 \nC 2214 4172 2573 4191 2662 4191 \nC 2733 4191 3002 4185 3277 4063 \nC 3398 4005 3565 3928 3565 3651 \nC 3565 3561 3558 3529 3539 3458 \nC 3533 3439 3526 3413 3526 3394 \nC 3526 3349 3565 3349 3590 3349 \nC 3674 3349 3827 3413 3955 3522 \nC 4038 3587 4109 3670 4109 3921 \nC 4109 4236 3942 4326 3770 4403 \nC 3469 4544 3174 4544 3085 4544 \nC 2246 4544 1222 3902 1222 3169 \nC 1222 2629 1779 2371 2086 2236 \nC 2541 2031 3123 1735 3123 1195 \nC 3123 764 2810 224 1837 224 \nC 1184 224 659 648 659 1085 \nC 659 1201 691 1317 736 1420 \nz\n\" id=\"CMSY10-53\" transform=\"scale(0.015625)\"/>\n      </defs>\n      <use transform=\"scale(0.996264)\" xlink:href=\"#CMMI12-11\"/>\n      <use transform=\"translate(51.703816 0)scale(0.996264)\" xlink:href=\"#CMMI12-3d\"/>\n      <use transform=\"translate(100.478735 0)scale(0.996264)\" xlink:href=\"#CMSY10-53\"/>\n     </g>\n    </g>\n   </g>\n   <g id=\"matplotlib.axis_2\">\n    <g id=\"ytick_1\">\n     <g id=\"line2d_79\">\n      <defs>\n       <path d=\"M 0 0 \nL 8 0 \n\" id=\"m319cd44c2d\" style=\"stroke:#000000;stroke-width:0.8;\"/>\n      </defs>\n      <g>\n       <use style=\"stroke:#000000;stroke-width:0.8;\" x=\"55.900768\" xlink:href=\"#m319cd44c2d\" y=\"635.813044\"/>\n      </g>\n     </g>\n     <g id=\"line2d_80\">\n      <defs>\n       <path d=\"M 0 0 \nL -8 0 \n\" id=\"mbbb6b8d6f6\" style=\"stroke:#000000;stroke-width:0.8;\"/>\n      </defs>\n      <g>\n       <use style=\"stroke:#000000;stroke-width:0.8;\" x=\"595.900768\" xlink:href=\"#mbbb6b8d6f6\" y=\"635.813044\"/>\n      </g>\n     </g>\n     <g id=\"text_10\">\n      <!-- $\\mathdefault{10}$ -->\n      <g transform=\"translate(35.952196 642.039694)scale(0.18 -0.18)\">\n       <use transform=\"scale(0.996264)\" xlink:href=\"#CMR17-31\"/>\n       <use transform=\"translate(45.690477 0)scale(0.996264)\" xlink:href=\"#CMR17-30\"/>\n      </g>\n     </g>\n    </g>\n    <g id=\"ytick_2\">\n     <g id=\"line2d_81\">\n      <g>\n       <use style=\"stroke:#000000;stroke-width:0.8;\" x=\"55.900768\" xlink:href=\"#m319cd44c2d\" y=\"537.211185\"/>\n      </g>\n     </g>\n     <g id=\"line2d_82\">\n      <g>\n       <use style=\"stroke:#000000;stroke-width:0.8;\" x=\"595.900768\" xlink:href=\"#mbbb6b8d6f6\" y=\"537.211185\"/>\n      </g>\n     </g>\n     <g id=\"text_11\">\n      <!-- $\\mathdefault{12}$ -->\n      <g transform=\"translate(35.952196 543.437835)scale(0.18 -0.18)\">\n       <use transform=\"scale(0.996264)\" xlink:href=\"#CMR17-31\"/>\n       <use transform=\"translate(45.690477 0)scale(0.996264)\" xlink:href=\"#CMR17-32\"/>\n      </g>\n     </g>\n    </g>\n    <g id=\"ytick_3\">\n     <g id=\"line2d_83\">\n      <g>\n       <use style=\"stroke:#000000;stroke-width:0.8;\" x=\"55.900768\" xlink:href=\"#m319cd44c2d\" y=\"438.609326\"/>\n      </g>\n     </g>\n     <g id=\"line2d_84\">\n      <g>\n       <use style=\"stroke:#000000;stroke-width:0.8;\" x=\"595.900768\" xlink:href=\"#mbbb6b8d6f6\" y=\"438.609326\"/>\n      </g>\n     </g>\n     <g id=\"text_12\">\n      <!-- $\\mathdefault{14}$ -->\n      <g transform=\"translate(35.952196 444.835976)scale(0.18 -0.18)\">\n       <use transform=\"scale(0.996264)\" xlink:href=\"#CMR17-31\"/>\n       <use transform=\"translate(45.690477 0)scale(0.996264)\" xlink:href=\"#CMR17-34\"/>\n      </g>\n     </g>\n    </g>\n    <g id=\"ytick_4\">\n     <g id=\"line2d_85\">\n      <g>\n       <use style=\"stroke:#000000;stroke-width:0.8;\" x=\"55.900768\" xlink:href=\"#m319cd44c2d\" y=\"340.007467\"/>\n      </g>\n     </g>\n     <g id=\"line2d_86\">\n      <g>\n       <use style=\"stroke:#000000;stroke-width:0.8;\" x=\"595.900768\" xlink:href=\"#mbbb6b8d6f6\" y=\"340.007467\"/>\n      </g>\n     </g>\n     <g id=\"text_13\">\n      <!-- $\\mathdefault{16}$ -->\n      <g transform=\"translate(35.952196 346.234117)scale(0.18 -0.18)\">\n       <use transform=\"scale(0.996264)\" xlink:href=\"#CMR17-31\"/>\n       <use transform=\"translate(45.690477 0)scale(0.996264)\" xlink:href=\"#CMR17-36\"/>\n      </g>\n     </g>\n    </g>\n    <g id=\"ytick_5\">\n     <g id=\"line2d_87\">\n      <g>\n       <use style=\"stroke:#000000;stroke-width:0.8;\" x=\"55.900768\" xlink:href=\"#m319cd44c2d\" y=\"241.405607\"/>\n      </g>\n     </g>\n     <g id=\"line2d_88\">\n      <g>\n       <use style=\"stroke:#000000;stroke-width:0.8;\" x=\"595.900768\" xlink:href=\"#mbbb6b8d6f6\" y=\"241.405607\"/>\n      </g>\n     </g>\n     <g id=\"text_14\">\n      <!-- $\\mathdefault{18}$ -->\n      <g transform=\"translate(35.952196 247.632258)scale(0.18 -0.18)\">\n       <use transform=\"scale(0.996264)\" xlink:href=\"#CMR17-31\"/>\n       <use transform=\"translate(45.690477 0)scale(0.996264)\" xlink:href=\"#CMR17-38\"/>\n      </g>\n     </g>\n    </g>\n    <g id=\"ytick_6\">\n     <g id=\"line2d_89\">\n      <g>\n       <use style=\"stroke:#000000;stroke-width:0.8;\" x=\"55.900768\" xlink:href=\"#m319cd44c2d\" y=\"142.803748\"/>\n      </g>\n     </g>\n     <g id=\"line2d_90\">\n      <g>\n       <use style=\"stroke:#000000;stroke-width:0.8;\" x=\"595.900768\" xlink:href=\"#mbbb6b8d6f6\" y=\"142.803748\"/>\n      </g>\n     </g>\n     <g id=\"text_15\">\n      <!-- $\\mathdefault{20}$ -->\n      <g transform=\"translate(35.952196 149.030398)scale(0.18 -0.18)\">\n       <use transform=\"scale(0.996264)\" xlink:href=\"#CMR17-32\"/>\n       <use transform=\"translate(45.690477 0)scale(0.996264)\" xlink:href=\"#CMR17-30\"/>\n      </g>\n     </g>\n    </g>\n    <g id=\"ytick_7\">\n     <g id=\"line2d_91\">\n      <defs>\n       <path d=\"M 0 0 \nL 4 0 \n\" id=\"m9f3563706f\" style=\"stroke:#000000;stroke-width:0.6;\"/>\n      </defs>\n      <g>\n       <use style=\"stroke:#000000;stroke-width:0.6;\" x=\"55.900768\" xlink:href=\"#m9f3563706f\" y=\"611.162579\"/>\n      </g>\n     </g>\n     <g id=\"line2d_92\">\n      <defs>\n       <path d=\"M 0 0 \nL -4 0 \n\" id=\"m7ae52ff4b7\" style=\"stroke:#000000;stroke-width:0.6;\"/>\n      </defs>\n      <g>\n       <use style=\"stroke:#000000;stroke-width:0.6;\" x=\"595.900768\" xlink:href=\"#m7ae52ff4b7\" y=\"611.162579\"/>\n      </g>\n     </g>\n    </g>\n    <g id=\"ytick_8\">\n     <g id=\"line2d_93\">\n      <g>\n       <use style=\"stroke:#000000;stroke-width:0.6;\" x=\"55.900768\" xlink:href=\"#m9f3563706f\" y=\"586.512114\"/>\n      </g>\n     </g>\n     <g id=\"line2d_94\">\n      <g>\n       <use style=\"stroke:#000000;stroke-width:0.6;\" x=\"595.900768\" xlink:href=\"#m7ae52ff4b7\" y=\"586.512114\"/>\n      </g>\n     </g>\n    </g>\n    <g id=\"ytick_9\">\n     <g id=\"line2d_95\">\n      <g>\n       <use style=\"stroke:#000000;stroke-width:0.6;\" x=\"55.900768\" xlink:href=\"#m9f3563706f\" y=\"561.86165\"/>\n      </g>\n     </g>\n     <g id=\"line2d_96\">\n      <g>\n       <use style=\"stroke:#000000;stroke-width:0.6;\" x=\"595.900768\" xlink:href=\"#m7ae52ff4b7\" y=\"561.86165\"/>\n      </g>\n     </g>\n    </g>\n    <g id=\"ytick_10\">\n     <g id=\"line2d_97\">\n      <g>\n       <use style=\"stroke:#000000;stroke-width:0.6;\" x=\"55.900768\" xlink:href=\"#m9f3563706f\" y=\"512.56072\"/>\n      </g>\n     </g>\n     <g id=\"line2d_98\">\n      <g>\n       <use style=\"stroke:#000000;stroke-width:0.6;\" x=\"595.900768\" xlink:href=\"#m7ae52ff4b7\" y=\"512.56072\"/>\n      </g>\n     </g>\n    </g>\n    <g id=\"ytick_11\">\n     <g id=\"line2d_99\">\n      <g>\n       <use style=\"stroke:#000000;stroke-width:0.6;\" x=\"55.900768\" xlink:href=\"#m9f3563706f\" y=\"487.910255\"/>\n      </g>\n     </g>\n     <g id=\"line2d_100\">\n      <g>\n       <use style=\"stroke:#000000;stroke-width:0.6;\" x=\"595.900768\" xlink:href=\"#m7ae52ff4b7\" y=\"487.910255\"/>\n      </g>\n     </g>\n    </g>\n    <g id=\"ytick_12\">\n     <g id=\"line2d_101\">\n      <g>\n       <use style=\"stroke:#000000;stroke-width:0.6;\" x=\"55.900768\" xlink:href=\"#m9f3563706f\" y=\"463.259791\"/>\n      </g>\n     </g>\n     <g id=\"line2d_102\">\n      <g>\n       <use style=\"stroke:#000000;stroke-width:0.6;\" x=\"595.900768\" xlink:href=\"#m7ae52ff4b7\" y=\"463.259791\"/>\n      </g>\n     </g>\n    </g>\n    <g id=\"ytick_13\">\n     <g id=\"line2d_103\">\n      <g>\n       <use style=\"stroke:#000000;stroke-width:0.6;\" x=\"55.900768\" xlink:href=\"#m9f3563706f\" y=\"413.958861\"/>\n      </g>\n     </g>\n     <g id=\"line2d_104\">\n      <g>\n       <use style=\"stroke:#000000;stroke-width:0.6;\" x=\"595.900768\" xlink:href=\"#m7ae52ff4b7\" y=\"413.958861\"/>\n      </g>\n     </g>\n    </g>\n    <g id=\"ytick_14\">\n     <g id=\"line2d_105\">\n      <g>\n       <use style=\"stroke:#000000;stroke-width:0.6;\" x=\"55.900768\" xlink:href=\"#m9f3563706f\" y=\"389.308396\"/>\n      </g>\n     </g>\n     <g id=\"line2d_106\">\n      <g>\n       <use style=\"stroke:#000000;stroke-width:0.6;\" x=\"595.900768\" xlink:href=\"#m7ae52ff4b7\" y=\"389.308396\"/>\n      </g>\n     </g>\n    </g>\n    <g id=\"ytick_15\">\n     <g id=\"line2d_107\">\n      <g>\n       <use style=\"stroke:#000000;stroke-width:0.6;\" x=\"55.900768\" xlink:href=\"#m9f3563706f\" y=\"364.657931\"/>\n      </g>\n     </g>\n     <g id=\"line2d_108\">\n      <g>\n       <use style=\"stroke:#000000;stroke-width:0.6;\" x=\"595.900768\" xlink:href=\"#m7ae52ff4b7\" y=\"364.657931\"/>\n      </g>\n     </g>\n    </g>\n    <g id=\"ytick_16\">\n     <g id=\"line2d_109\">\n      <g>\n       <use style=\"stroke:#000000;stroke-width:0.6;\" x=\"55.900768\" xlink:href=\"#m9f3563706f\" y=\"315.357002\"/>\n      </g>\n     </g>\n     <g id=\"line2d_110\">\n      <g>\n       <use style=\"stroke:#000000;stroke-width:0.6;\" x=\"595.900768\" xlink:href=\"#m7ae52ff4b7\" y=\"315.357002\"/>\n      </g>\n     </g>\n    </g>\n    <g id=\"ytick_17\">\n     <g id=\"line2d_111\">\n      <g>\n       <use style=\"stroke:#000000;stroke-width:0.6;\" x=\"55.900768\" xlink:href=\"#m9f3563706f\" y=\"290.706537\"/>\n      </g>\n     </g>\n     <g id=\"line2d_112\">\n      <g>\n       <use style=\"stroke:#000000;stroke-width:0.6;\" x=\"595.900768\" xlink:href=\"#m7ae52ff4b7\" y=\"290.706537\"/>\n      </g>\n     </g>\n    </g>\n    <g id=\"ytick_18\">\n     <g id=\"line2d_113\">\n      <g>\n       <use style=\"stroke:#000000;stroke-width:0.6;\" x=\"55.900768\" xlink:href=\"#m9f3563706f\" y=\"266.056072\"/>\n      </g>\n     </g>\n     <g id=\"line2d_114\">\n      <g>\n       <use style=\"stroke:#000000;stroke-width:0.6;\" x=\"595.900768\" xlink:href=\"#m7ae52ff4b7\" y=\"266.056072\"/>\n      </g>\n     </g>\n    </g>\n    <g id=\"ytick_19\">\n     <g id=\"line2d_115\">\n      <g>\n       <use style=\"stroke:#000000;stroke-width:0.6;\" x=\"55.900768\" xlink:href=\"#m9f3563706f\" y=\"216.755143\"/>\n      </g>\n     </g>\n     <g id=\"line2d_116\">\n      <g>\n       <use style=\"stroke:#000000;stroke-width:0.6;\" x=\"595.900768\" xlink:href=\"#m7ae52ff4b7\" y=\"216.755143\"/>\n      </g>\n     </g>\n    </g>\n    <g id=\"ytick_20\">\n     <g id=\"line2d_117\">\n      <g>\n       <use style=\"stroke:#000000;stroke-width:0.6;\" x=\"55.900768\" xlink:href=\"#m9f3563706f\" y=\"192.104678\"/>\n      </g>\n     </g>\n     <g id=\"line2d_118\">\n      <g>\n       <use style=\"stroke:#000000;stroke-width:0.6;\" x=\"595.900768\" xlink:href=\"#m7ae52ff4b7\" y=\"192.104678\"/>\n      </g>\n     </g>\n    </g>\n    <g id=\"ytick_21\">\n     <g id=\"line2d_119\">\n      <g>\n       <use style=\"stroke:#000000;stroke-width:0.6;\" x=\"55.900768\" xlink:href=\"#m9f3563706f\" y=\"167.454213\"/>\n      </g>\n     </g>\n     <g id=\"line2d_120\">\n      <g>\n       <use style=\"stroke:#000000;stroke-width:0.6;\" x=\"595.900768\" xlink:href=\"#m7ae52ff4b7\" y=\"167.454213\"/>\n      </g>\n     </g>\n    </g>\n    <g id=\"text_16\">\n     <!-- $\\tau_f$ [fm/c] -->\n     <g transform=\"translate(25.111226 431.511673)rotate(-90)scale(0.24 -0.24)\">\n      <defs>\n       <path d=\"M 1837 2406 \nL 2899 2406 \nC 2982 2406 3194 2406 3194 2611 \nC 3194 2752 3072 2752 2957 2752 \nL 1197 2752 \nC 1050 2752 832 2752 538 2438 \nC 371 2253 166 1916 166 1878 \nC 166 1839 198 1827 237 1827 \nC 282 1827 288 1846 320 1884 \nC 653 2406 986 2406 1146 2406 \nL 1677 2406 \nL 1011 223 \nC 979 127 979 114 979 95 \nC 979 25 1024 -64 1152 -64 \nC 1350 -64 1382 108 1402 204 \nL 1837 2406 \nz\n\" id=\"CMMI12-1c\" transform=\"scale(0.015625)\"/>\n       <path d=\"M 2854 2566 \nC 2982 2566 3034 2566 3034 2687 \nC 3034 2752 2982 2752 2867 2752 \nL 2349 2752 \nC 2470 3398 2560 3846 2611 4051 \nC 2650 4204 2784 4351 2950 4351 \nC 3085 4351 3219 4294 3283 4236 \nC 3034 4211 2957 4025 2957 3916 \nC 2957 3788 3053 3712 3174 3712 \nC 3302 3712 3494 3820 3494 4064 \nC 3494 4332 3226 4480 2944 4480 \nC 2669 4480 2400 4275 2272 4025 \nC 2157 3801 2093 3573 1946 2752 \nL 1517 2752 \nC 1395 2752 1331 2752 1331 2636 \nC 1331 2566 1370 2566 1498 2566 \nL 1907 2566 \nC 1792 1977 1530 545 1382 -132 \nC 1274 -685 1178 -1152 858 -1152 \nC 838 -1152 653 -1152 538 -1031 \nC 864 -1005 864 -724 864 -717 \nC 864 -589 768 -512 646 -512 \nC 518 -512 326 -621 326 -865 \nC 326 -1140 608 -1280 858 -1280 \nC 1510 -1280 1779 -113 1850 203 \nC 1965 691 2278 2376 2310 2566 \nL 2854 2566 \nz\n\" id=\"CMMI12-66\" transform=\"scale(0.015625)\"/>\n       <path d=\"M 1504 -1600 \nL 1504 -1376 \nL 902 -1376 \nL 902 4575 \nL 1504 4575 \nL 1504 4800 \nL 678 4800 \nL 678 -1600 \nL 1504 -1600 \nz\n\" id=\"CMR17-5b\" transform=\"scale(0.015625)\"/>\n       <path d=\"M 979 2585 \nL 1709 2585 \nL 1709 2752 \nL 966 2752 \nL 966 3539 \nC 966 4076 1235 4377 1510 4377 \nC 1594 4377 1690 4363 1754 4339 \nC 1702 4326 1568 4281 1568 4121 \nC 1568 3955 1696 3904 1786 3904 \nC 1875 3904 2003 3955 2003 4121 \nC 2003 4353 1773 4480 1517 4480 \nC 1152 4480 653 4211 653 3526 \nL 653 2752 \nL 141 2752 \nL 141 2585 \nL 653 2585 \nL 653 441 \nC 653 198 627 166 218 166 \nL 218 0 \nC 371 12 666 12 832 12 \nC 1018 12 1344 12 1517 0 \nL 1517 166 \nC 1056 166 979 166 979 454 \nL 979 2585 \nz\n\" id=\"CMR17-66\" transform=\"scale(0.015625)\"/>\n       <path d=\"M 4326 1954 \nC 4326 2276 4269 2816 3507 2816 \nC 3072 2816 2771 2520 2656 2173 \nL 2650 2173 \nC 2573 2700 2195 2816 1837 2816 \nC 1331 2816 1069 2424 973 2166 \nL 966 2166 \nL 966 2816 \nL 211 2745 \nL 211 2578 \nC 589 2578 646 2540 646 2231 \nL 646 443 \nC 646 198 621 166 211 166 \nL 211 0 \nC 365 12 646 12 813 12 \nC 979 12 1267 12 1421 0 \nL 1421 166 \nC 1011 166 986 192 986 443 \nL 986 1678 \nC 986 2269 1344 2713 1792 2713 \nC 2266 2713 2317 2289 2317 1980 \nL 2317 443 \nC 2317 198 2291 166 1882 166 \nL 1882 0 \nC 2035 12 2317 12 2483 12 \nC 2650 12 2938 12 3091 0 \nL 3091 166 \nC 2682 166 2656 192 2656 443 \nL 2656 1678 \nC 2656 2269 3014 2713 3462 2713 \nC 3936 2713 3987 2289 3987 1980 \nL 3987 443 \nC 3987 198 3962 166 3552 166 \nL 3552 0 \nC 3706 12 3987 12 4154 12 \nC 4320 12 4608 12 4762 0 \nL 4762 166 \nC 4352 166 4326 192 4326 443 \nL 4326 1954 \nz\n\" id=\"CMR17-6d\" transform=\"scale(0.015625)\"/>\n       <path d=\"M 2605 4575 \nC 2637 4658 2637 4671 2637 4684 \nC 2637 4761 2579 4800 2528 4800 \nC 2451 4800 2426 4748 2400 4671 \nL 326 -1376 \nC 294 -1460 294 -1472 294 -1485 \nC 294 -1562 352 -1600 403 -1600 \nC 480 -1600 506 -1549 531 -1472 \nL 2605 4575 \nz\n\" id=\"CMR17-2f\" transform=\"scale(0.015625)\"/>\n       <path d=\"M 2234 2240 \nC 2112 2240 1933 2240 1933 2015 \nC 1933 1836 2080 1785 2163 1785 \nC 2208 1785 2394 1804 2394 2028 \nC 2394 2476 1958 2816 1466 2816 \nC 787 2816 211 2201 211 1379 \nC 211 521 813 -64 1466 -64 \nC 2259 -64 2458 676 2458 747 \nC 2458 773 2451 792 2406 792 \nC 2362 792 2355 786 2330 702 \nC 2163 180 1798 51 1523 51 \nC 1114 51 621 431 621 1385 \nC 621 2358 1094 2700 1472 2700 \nC 1722 2700 2093 2582 2234 2240 \nz\n\" id=\"CMR17-63\" transform=\"scale(0.015625)\"/>\n       <path d=\"M 915 4800 \nL 90 4800 \nL 90 4575 \nL 691 4575 \nL 691 -1376 \nL 90 -1376 \nL 90 -1600 \nL 915 -1600 \nL 915 4800 \nz\n\" id=\"CMR17-5d\" transform=\"scale(0.015625)\"/>\n      </defs>\n      <use transform=\"scale(0.996264)\" xlink:href=\"#CMMI12-1c\"/>\n      <use transform=\"translate(42.363841 -14.943915)scale(0.697382)\" xlink:href=\"#CMMI12-66\"/>\n      <use transform=\"translate(114.041962 0)scale(0.996264)\" xlink:href=\"#CMR17-5b\"/>\n      <use transform=\"translate(138.913021 0)scale(0.996264)\" xlink:href=\"#CMR17-66\"/>\n      <use transform=\"translate(166.386533 0)scale(0.996264)\" xlink:href=\"#CMR17-6d\"/>\n      <use transform=\"translate(243.306123 0)scale(0.996264)\" xlink:href=\"#CMR17-2f\"/>\n      <use transform=\"translate(288.9966 0)scale(0.996264)\" xlink:href=\"#CMR17-63\"/>\n      <use transform=\"translate(329.482261 0)scale(0.996264)\" xlink:href=\"#CMR17-5d\"/>\n     </g>\n    </g>\n   </g>\n   <g id=\"patch_3\">\n    <path d=\"M 55.900768 658.8 \nL 55.900768 118.8 \n\" style=\"fill:none;stroke:#000000;stroke-linecap:square;stroke-linejoin:miter;stroke-width:0.8;\"/>\n   </g>\n   <g id=\"patch_4\">\n    <path d=\"M 595.900768 658.8 \nL 595.900768 118.8 \n\" style=\"fill:none;stroke:#000000;stroke-linecap:square;stroke-linejoin:miter;stroke-width:0.8;\"/>\n   </g>\n   <g id=\"patch_5\">\n    <path d=\"M 55.900768 658.8 \nL 595.900768 658.8 \n\" style=\"fill:none;stroke:#000000;stroke-linecap:square;stroke-linejoin:miter;stroke-width:0.8;\"/>\n   </g>\n   <g id=\"patch_6\">\n    <path d=\"M 55.900768 118.8 \nL 595.900768 118.8 \n\" style=\"fill:none;stroke:#000000;stroke-linecap:square;stroke-linejoin:miter;stroke-width:0.8;\"/>\n   </g>\n  </g>\n  <g id=\"axes_2\">\n   <g id=\"patch_7\">\n    <path d=\"M 55.900768 115.2 \nL 595.900768 115.2 \nL 595.900768 7.2 \nL 55.900768 7.2 \nz\n\" style=\"fill:#ffffff;\"/>\n   </g>\n   <g id=\"patch_8\">\n    <path clip-path=\"url(#p8299bf7c32)\" d=\"M 80.446222 115.2 \nL 129.537131 115.2 \nL 129.537131 12.342857 \nL 80.446222 12.342857 \nz\n\" style=\"fill:#0000ff;\"/>\n   </g>\n   <g id=\"patch_9\">\n    <path clip-path=\"url(#p8299bf7c32)\" d=\"M 129.537131 115.2 \nL 178.62804 115.2 \nL 178.62804 28.167033 \nL 129.537131 28.167033 \nz\n\" style=\"fill:#0000ff;\"/>\n   </g>\n   <g id=\"patch_10\">\n    <path clip-path=\"url(#p8299bf7c32)\" d=\"M 178.62804 115.2 \nL 227.718949 115.2 \nL 227.718949 12.342857 \nL 178.62804 12.342857 \nz\n\" style=\"fill:#0000ff;\"/>\n   </g>\n   <g id=\"patch_11\">\n    <path clip-path=\"url(#p8299bf7c32)\" d=\"M 227.718949 115.2 \nL 276.809858 115.2 \nL 276.809858 20.254945 \nL 227.718949 20.254945 \nz\n\" style=\"fill:#0000ff;\"/>\n   </g>\n   <g id=\"patch_12\">\n    <path clip-path=\"url(#p8299bf7c32)\" d=\"M 276.809858 115.2 \nL 325.900768 115.2 \nL 325.900768 28.167033 \nL 276.809858 28.167033 \nz\n\" style=\"fill:#0000ff;\"/>\n   </g>\n   <g id=\"patch_13\">\n    <path clip-path=\"url(#p8299bf7c32)\" d=\"M 325.900768 115.2 \nL 374.991677 115.2 \nL 374.991677 20.254945 \nL 325.900768 20.254945 \nz\n\" style=\"fill:#0000ff;\"/>\n   </g>\n   <g id=\"patch_14\">\n    <path clip-path=\"url(#p8299bf7c32)\" d=\"M 374.991677 115.2 \nL 424.082586 115.2 \nL 424.082586 20.254945 \nL 374.991677 20.254945 \nz\n\" style=\"fill:#0000ff;\"/>\n   </g>\n   <g id=\"patch_15\">\n    <path clip-path=\"url(#p8299bf7c32)\" d=\"M 424.082586 115.2 \nL 473.173495 115.2 \nL 473.173495 28.167033 \nL 424.082586 28.167033 \nz\n\" style=\"fill:#0000ff;\"/>\n   </g>\n   <g id=\"patch_16\">\n    <path clip-path=\"url(#p8299bf7c32)\" d=\"M 473.173495 115.2 \nL 522.264404 115.2 \nL 522.264404 20.254945 \nL 473.173495 20.254945 \nz\n\" style=\"fill:#0000ff;\"/>\n   </g>\n   <g id=\"patch_17\">\n    <path clip-path=\"url(#p8299bf7c32)\" d=\"M 522.264404 115.2 \nL 571.355313 115.2 \nL 571.355313 12.342857 \nL 522.264404 12.342857 \nz\n\" style=\"fill:#0000ff;\"/>\n   </g>\n   <g id=\"matplotlib.axis_3\">\n    <g id=\"xtick_40\">\n     <g id=\"line2d_121\">\n      <g>\n       <use style=\"stroke:#000000;stroke-width:0.8;\" x=\"90.578337\" xlink:href=\"#maac8010ec8\" y=\"115.2\"/>\n      </g>\n     </g>\n     <g id=\"line2d_122\">\n      <g>\n       <use style=\"stroke:#000000;stroke-width:0.8;\" x=\"90.578337\" xlink:href=\"#mdefa1d105c\" y=\"7.2\"/>\n      </g>\n     </g>\n    </g>\n    <g id=\"xtick_41\">\n     <g id=\"line2d_123\">\n      <g>\n       <use style=\"stroke:#000000;stroke-width:0.8;\" x=\"160.273618\" xlink:href=\"#maac8010ec8\" y=\"115.2\"/>\n      </g>\n     </g>\n     <g id=\"line2d_124\">\n      <g>\n       <use style=\"stroke:#000000;stroke-width:0.8;\" x=\"160.273618\" xlink:href=\"#mdefa1d105c\" y=\"7.2\"/>\n      </g>\n     </g>\n    </g>\n    <g id=\"xtick_42\">\n     <g id=\"line2d_125\">\n      <g>\n       <use style=\"stroke:#000000;stroke-width:0.8;\" x=\"229.968899\" xlink:href=\"#maac8010ec8\" y=\"115.2\"/>\n      </g>\n     </g>\n     <g id=\"line2d_126\">\n      <g>\n       <use style=\"stroke:#000000;stroke-width:0.8;\" x=\"229.968899\" xlink:href=\"#mdefa1d105c\" y=\"7.2\"/>\n      </g>\n     </g>\n    </g>\n    <g id=\"xtick_43\">\n     <g id=\"line2d_127\">\n      <g>\n       <use style=\"stroke:#000000;stroke-width:0.8;\" x=\"299.66418\" xlink:href=\"#maac8010ec8\" y=\"115.2\"/>\n      </g>\n     </g>\n     <g id=\"line2d_128\">\n      <g>\n       <use style=\"stroke:#000000;stroke-width:0.8;\" x=\"299.66418\" xlink:href=\"#mdefa1d105c\" y=\"7.2\"/>\n      </g>\n     </g>\n    </g>\n    <g id=\"xtick_44\">\n     <g id=\"line2d_129\">\n      <g>\n       <use style=\"stroke:#000000;stroke-width:0.8;\" x=\"369.35946\" xlink:href=\"#maac8010ec8\" y=\"115.2\"/>\n      </g>\n     </g>\n     <g id=\"line2d_130\">\n      <g>\n       <use style=\"stroke:#000000;stroke-width:0.8;\" x=\"369.35946\" xlink:href=\"#mdefa1d105c\" y=\"7.2\"/>\n      </g>\n     </g>\n    </g>\n    <g id=\"xtick_45\">\n     <g id=\"line2d_131\">\n      <g>\n       <use style=\"stroke:#000000;stroke-width:0.8;\" x=\"439.054741\" xlink:href=\"#maac8010ec8\" y=\"115.2\"/>\n      </g>\n     </g>\n     <g id=\"line2d_132\">\n      <g>\n       <use style=\"stroke:#000000;stroke-width:0.8;\" x=\"439.054741\" xlink:href=\"#mdefa1d105c\" y=\"7.2\"/>\n      </g>\n     </g>\n    </g>\n    <g id=\"xtick_46\">\n     <g id=\"line2d_133\">\n      <g>\n       <use style=\"stroke:#000000;stroke-width:0.8;\" x=\"508.750022\" xlink:href=\"#maac8010ec8\" y=\"115.2\"/>\n      </g>\n     </g>\n     <g id=\"line2d_134\">\n      <g>\n       <use style=\"stroke:#000000;stroke-width:0.8;\" x=\"508.750022\" xlink:href=\"#mdefa1d105c\" y=\"7.2\"/>\n      </g>\n     </g>\n    </g>\n    <g id=\"xtick_47\">\n     <g id=\"line2d_135\">\n      <g>\n       <use style=\"stroke:#000000;stroke-width:0.8;\" x=\"578.445303\" xlink:href=\"#maac8010ec8\" y=\"115.2\"/>\n      </g>\n     </g>\n     <g id=\"line2d_136\">\n      <g>\n       <use style=\"stroke:#000000;stroke-width:0.8;\" x=\"578.445303\" xlink:href=\"#mdefa1d105c\" y=\"7.2\"/>\n      </g>\n     </g>\n    </g>\n    <g id=\"xtick_48\">\n     <g id=\"line2d_137\">\n      <g>\n       <use style=\"stroke:#000000;stroke-width:0.6;\" x=\"62.700225\" xlink:href=\"#mc9f7317653\" y=\"115.2\"/>\n      </g>\n     </g>\n     <g id=\"line2d_138\">\n      <g>\n       <use style=\"stroke:#000000;stroke-width:0.6;\" x=\"62.700225\" xlink:href=\"#mf80cf155a6\" y=\"7.2\"/>\n      </g>\n     </g>\n    </g>\n    <g id=\"xtick_49\">\n     <g id=\"line2d_139\">\n      <g>\n       <use style=\"stroke:#000000;stroke-width:0.6;\" x=\"76.639281\" xlink:href=\"#mc9f7317653\" y=\"115.2\"/>\n      </g>\n     </g>\n     <g id=\"line2d_140\">\n      <g>\n       <use style=\"stroke:#000000;stroke-width:0.6;\" x=\"76.639281\" xlink:href=\"#mf80cf155a6\" y=\"7.2\"/>\n      </g>\n     </g>\n    </g>\n    <g id=\"xtick_50\">\n     <g id=\"line2d_141\">\n      <g>\n       <use style=\"stroke:#000000;stroke-width:0.6;\" x=\"104.517393\" xlink:href=\"#mc9f7317653\" y=\"115.2\"/>\n      </g>\n     </g>\n     <g id=\"line2d_142\">\n      <g>\n       <use style=\"stroke:#000000;stroke-width:0.6;\" x=\"104.517393\" xlink:href=\"#mf80cf155a6\" y=\"7.2\"/>\n      </g>\n     </g>\n    </g>\n    <g id=\"xtick_51\">\n     <g id=\"line2d_143\">\n      <g>\n       <use style=\"stroke:#000000;stroke-width:0.6;\" x=\"118.456449\" xlink:href=\"#mc9f7317653\" y=\"115.2\"/>\n      </g>\n     </g>\n     <g id=\"line2d_144\">\n      <g>\n       <use style=\"stroke:#000000;stroke-width:0.6;\" x=\"118.456449\" xlink:href=\"#mf80cf155a6\" y=\"7.2\"/>\n      </g>\n     </g>\n    </g>\n    <g id=\"xtick_52\">\n     <g id=\"line2d_145\">\n      <g>\n       <use style=\"stroke:#000000;stroke-width:0.6;\" x=\"132.395506\" xlink:href=\"#mc9f7317653\" y=\"115.2\"/>\n      </g>\n     </g>\n     <g id=\"line2d_146\">\n      <g>\n       <use style=\"stroke:#000000;stroke-width:0.6;\" x=\"132.395506\" xlink:href=\"#mf80cf155a6\" y=\"7.2\"/>\n      </g>\n     </g>\n    </g>\n    <g id=\"xtick_53\">\n     <g id=\"line2d_147\">\n      <g>\n       <use style=\"stroke:#000000;stroke-width:0.6;\" x=\"146.334562\" xlink:href=\"#mc9f7317653\" y=\"115.2\"/>\n      </g>\n     </g>\n     <g id=\"line2d_148\">\n      <g>\n       <use style=\"stroke:#000000;stroke-width:0.6;\" x=\"146.334562\" xlink:href=\"#mf80cf155a6\" y=\"7.2\"/>\n      </g>\n     </g>\n    </g>\n    <g id=\"xtick_54\">\n     <g id=\"line2d_149\">\n      <g>\n       <use style=\"stroke:#000000;stroke-width:0.6;\" x=\"174.212674\" xlink:href=\"#mc9f7317653\" y=\"115.2\"/>\n      </g>\n     </g>\n     <g id=\"line2d_150\">\n      <g>\n       <use style=\"stroke:#000000;stroke-width:0.6;\" x=\"174.212674\" xlink:href=\"#mf80cf155a6\" y=\"7.2\"/>\n      </g>\n     </g>\n    </g>\n    <g id=\"xtick_55\">\n     <g id=\"line2d_151\">\n      <g>\n       <use style=\"stroke:#000000;stroke-width:0.6;\" x=\"188.15173\" xlink:href=\"#mc9f7317653\" y=\"115.2\"/>\n      </g>\n     </g>\n     <g id=\"line2d_152\">\n      <g>\n       <use style=\"stroke:#000000;stroke-width:0.6;\" x=\"188.15173\" xlink:href=\"#mf80cf155a6\" y=\"7.2\"/>\n      </g>\n     </g>\n    </g>\n    <g id=\"xtick_56\">\n     <g id=\"line2d_153\">\n      <g>\n       <use style=\"stroke:#000000;stroke-width:0.6;\" x=\"202.090786\" xlink:href=\"#mc9f7317653\" y=\"115.2\"/>\n      </g>\n     </g>\n     <g id=\"line2d_154\">\n      <g>\n       <use style=\"stroke:#000000;stroke-width:0.6;\" x=\"202.090786\" xlink:href=\"#mf80cf155a6\" y=\"7.2\"/>\n      </g>\n     </g>\n    </g>\n    <g id=\"xtick_57\">\n     <g id=\"line2d_155\">\n      <g>\n       <use style=\"stroke:#000000;stroke-width:0.6;\" x=\"216.029843\" xlink:href=\"#mc9f7317653\" y=\"115.2\"/>\n      </g>\n     </g>\n     <g id=\"line2d_156\">\n      <g>\n       <use style=\"stroke:#000000;stroke-width:0.6;\" x=\"216.029843\" xlink:href=\"#mf80cf155a6\" y=\"7.2\"/>\n      </g>\n     </g>\n    </g>\n    <g id=\"xtick_58\">\n     <g id=\"line2d_157\">\n      <g>\n       <use style=\"stroke:#000000;stroke-width:0.6;\" x=\"243.907955\" xlink:href=\"#mc9f7317653\" y=\"115.2\"/>\n      </g>\n     </g>\n     <g id=\"line2d_158\">\n      <g>\n       <use style=\"stroke:#000000;stroke-width:0.6;\" x=\"243.907955\" xlink:href=\"#mf80cf155a6\" y=\"7.2\"/>\n      </g>\n     </g>\n    </g>\n    <g id=\"xtick_59\">\n     <g id=\"line2d_159\">\n      <g>\n       <use style=\"stroke:#000000;stroke-width:0.6;\" x=\"257.847011\" xlink:href=\"#mc9f7317653\" y=\"115.2\"/>\n      </g>\n     </g>\n     <g id=\"line2d_160\">\n      <g>\n       <use style=\"stroke:#000000;stroke-width:0.6;\" x=\"257.847011\" xlink:href=\"#mf80cf155a6\" y=\"7.2\"/>\n      </g>\n     </g>\n    </g>\n    <g id=\"xtick_60\">\n     <g id=\"line2d_161\">\n      <g>\n       <use style=\"stroke:#000000;stroke-width:0.6;\" x=\"271.786067\" xlink:href=\"#mc9f7317653\" y=\"115.2\"/>\n      </g>\n     </g>\n     <g id=\"line2d_162\">\n      <g>\n       <use style=\"stroke:#000000;stroke-width:0.6;\" x=\"271.786067\" xlink:href=\"#mf80cf155a6\" y=\"7.2\"/>\n      </g>\n     </g>\n    </g>\n    <g id=\"xtick_61\">\n     <g id=\"line2d_163\">\n      <g>\n       <use style=\"stroke:#000000;stroke-width:0.6;\" x=\"285.725123\" xlink:href=\"#mc9f7317653\" y=\"115.2\"/>\n      </g>\n     </g>\n     <g id=\"line2d_164\">\n      <g>\n       <use style=\"stroke:#000000;stroke-width:0.6;\" x=\"285.725123\" xlink:href=\"#mf80cf155a6\" y=\"7.2\"/>\n      </g>\n     </g>\n    </g>\n    <g id=\"xtick_62\">\n     <g id=\"line2d_165\">\n      <g>\n       <use style=\"stroke:#000000;stroke-width:0.6;\" x=\"313.603236\" xlink:href=\"#mc9f7317653\" y=\"115.2\"/>\n      </g>\n     </g>\n     <g id=\"line2d_166\">\n      <g>\n       <use style=\"stroke:#000000;stroke-width:0.6;\" x=\"313.603236\" xlink:href=\"#mf80cf155a6\" y=\"7.2\"/>\n      </g>\n     </g>\n    </g>\n    <g id=\"xtick_63\">\n     <g id=\"line2d_167\">\n      <g>\n       <use style=\"stroke:#000000;stroke-width:0.6;\" x=\"327.542292\" xlink:href=\"#mc9f7317653\" y=\"115.2\"/>\n      </g>\n     </g>\n     <g id=\"line2d_168\">\n      <g>\n       <use style=\"stroke:#000000;stroke-width:0.6;\" x=\"327.542292\" xlink:href=\"#mf80cf155a6\" y=\"7.2\"/>\n      </g>\n     </g>\n    </g>\n    <g id=\"xtick_64\">\n     <g id=\"line2d_169\">\n      <g>\n       <use style=\"stroke:#000000;stroke-width:0.6;\" x=\"341.481348\" xlink:href=\"#mc9f7317653\" y=\"115.2\"/>\n      </g>\n     </g>\n     <g id=\"line2d_170\">\n      <g>\n       <use style=\"stroke:#000000;stroke-width:0.6;\" x=\"341.481348\" xlink:href=\"#mf80cf155a6\" y=\"7.2\"/>\n      </g>\n     </g>\n    </g>\n    <g id=\"xtick_65\">\n     <g id=\"line2d_171\">\n      <g>\n       <use style=\"stroke:#000000;stroke-width:0.6;\" x=\"355.420404\" xlink:href=\"#mc9f7317653\" y=\"115.2\"/>\n      </g>\n     </g>\n     <g id=\"line2d_172\">\n      <g>\n       <use style=\"stroke:#000000;stroke-width:0.6;\" x=\"355.420404\" xlink:href=\"#mf80cf155a6\" y=\"7.2\"/>\n      </g>\n     </g>\n    </g>\n    <g id=\"xtick_66\">\n     <g id=\"line2d_173\">\n      <g>\n       <use style=\"stroke:#000000;stroke-width:0.6;\" x=\"383.298517\" xlink:href=\"#mc9f7317653\" y=\"115.2\"/>\n      </g>\n     </g>\n     <g id=\"line2d_174\">\n      <g>\n       <use style=\"stroke:#000000;stroke-width:0.6;\" x=\"383.298517\" xlink:href=\"#mf80cf155a6\" y=\"7.2\"/>\n      </g>\n     </g>\n    </g>\n    <g id=\"xtick_67\">\n     <g id=\"line2d_175\">\n      <g>\n       <use style=\"stroke:#000000;stroke-width:0.6;\" x=\"397.237573\" xlink:href=\"#mc9f7317653\" y=\"115.2\"/>\n      </g>\n     </g>\n     <g id=\"line2d_176\">\n      <g>\n       <use style=\"stroke:#000000;stroke-width:0.6;\" x=\"397.237573\" xlink:href=\"#mf80cf155a6\" y=\"7.2\"/>\n      </g>\n     </g>\n    </g>\n    <g id=\"xtick_68\">\n     <g id=\"line2d_177\">\n      <g>\n       <use style=\"stroke:#000000;stroke-width:0.6;\" x=\"411.176629\" xlink:href=\"#mc9f7317653\" y=\"115.2\"/>\n      </g>\n     </g>\n     <g id=\"line2d_178\">\n      <g>\n       <use style=\"stroke:#000000;stroke-width:0.6;\" x=\"411.176629\" xlink:href=\"#mf80cf155a6\" y=\"7.2\"/>\n      </g>\n     </g>\n    </g>\n    <g id=\"xtick_69\">\n     <g id=\"line2d_179\">\n      <g>\n       <use style=\"stroke:#000000;stroke-width:0.6;\" x=\"425.115685\" xlink:href=\"#mc9f7317653\" y=\"115.2\"/>\n      </g>\n     </g>\n     <g id=\"line2d_180\">\n      <g>\n       <use style=\"stroke:#000000;stroke-width:0.6;\" x=\"425.115685\" xlink:href=\"#mf80cf155a6\" y=\"7.2\"/>\n      </g>\n     </g>\n    </g>\n    <g id=\"xtick_70\">\n     <g id=\"line2d_181\">\n      <g>\n       <use style=\"stroke:#000000;stroke-width:0.6;\" x=\"452.993797\" xlink:href=\"#mc9f7317653\" y=\"115.2\"/>\n      </g>\n     </g>\n     <g id=\"line2d_182\">\n      <g>\n       <use style=\"stroke:#000000;stroke-width:0.6;\" x=\"452.993797\" xlink:href=\"#mf80cf155a6\" y=\"7.2\"/>\n      </g>\n     </g>\n    </g>\n    <g id=\"xtick_71\">\n     <g id=\"line2d_183\">\n      <g>\n       <use style=\"stroke:#000000;stroke-width:0.6;\" x=\"466.932854\" xlink:href=\"#mc9f7317653\" y=\"115.2\"/>\n      </g>\n     </g>\n     <g id=\"line2d_184\">\n      <g>\n       <use style=\"stroke:#000000;stroke-width:0.6;\" x=\"466.932854\" xlink:href=\"#mf80cf155a6\" y=\"7.2\"/>\n      </g>\n     </g>\n    </g>\n    <g id=\"xtick_72\">\n     <g id=\"line2d_185\">\n      <g>\n       <use style=\"stroke:#000000;stroke-width:0.6;\" x=\"480.87191\" xlink:href=\"#mc9f7317653\" y=\"115.2\"/>\n      </g>\n     </g>\n     <g id=\"line2d_186\">\n      <g>\n       <use style=\"stroke:#000000;stroke-width:0.6;\" x=\"480.87191\" xlink:href=\"#mf80cf155a6\" y=\"7.2\"/>\n      </g>\n     </g>\n    </g>\n    <g id=\"xtick_73\">\n     <g id=\"line2d_187\">\n      <g>\n       <use style=\"stroke:#000000;stroke-width:0.6;\" x=\"494.810966\" xlink:href=\"#mc9f7317653\" y=\"115.2\"/>\n      </g>\n     </g>\n     <g id=\"line2d_188\">\n      <g>\n       <use style=\"stroke:#000000;stroke-width:0.6;\" x=\"494.810966\" xlink:href=\"#mf80cf155a6\" y=\"7.2\"/>\n      </g>\n     </g>\n    </g>\n    <g id=\"xtick_74\">\n     <g id=\"line2d_189\">\n      <g>\n       <use style=\"stroke:#000000;stroke-width:0.6;\" x=\"522.689078\" xlink:href=\"#mc9f7317653\" y=\"115.2\"/>\n      </g>\n     </g>\n     <g id=\"line2d_190\">\n      <g>\n       <use style=\"stroke:#000000;stroke-width:0.6;\" x=\"522.689078\" xlink:href=\"#mf80cf155a6\" y=\"7.2\"/>\n      </g>\n     </g>\n    </g>\n    <g id=\"xtick_75\">\n     <g id=\"line2d_191\">\n      <g>\n       <use style=\"stroke:#000000;stroke-width:0.6;\" x=\"536.628134\" xlink:href=\"#mc9f7317653\" y=\"115.2\"/>\n      </g>\n     </g>\n     <g id=\"line2d_192\">\n      <g>\n       <use style=\"stroke:#000000;stroke-width:0.6;\" x=\"536.628134\" xlink:href=\"#mf80cf155a6\" y=\"7.2\"/>\n      </g>\n     </g>\n    </g>\n    <g id=\"xtick_76\">\n     <g id=\"line2d_193\">\n      <g>\n       <use style=\"stroke:#000000;stroke-width:0.6;\" x=\"550.567191\" xlink:href=\"#mc9f7317653\" y=\"115.2\"/>\n      </g>\n     </g>\n     <g id=\"line2d_194\">\n      <g>\n       <use style=\"stroke:#000000;stroke-width:0.6;\" x=\"550.567191\" xlink:href=\"#mf80cf155a6\" y=\"7.2\"/>\n      </g>\n     </g>\n    </g>\n    <g id=\"xtick_77\">\n     <g id=\"line2d_195\">\n      <g>\n       <use style=\"stroke:#000000;stroke-width:0.6;\" x=\"564.506247\" xlink:href=\"#mc9f7317653\" y=\"115.2\"/>\n      </g>\n     </g>\n     <g id=\"line2d_196\">\n      <g>\n       <use style=\"stroke:#000000;stroke-width:0.6;\" x=\"564.506247\" xlink:href=\"#mf80cf155a6\" y=\"7.2\"/>\n      </g>\n     </g>\n    </g>\n    <g id=\"xtick_78\">\n     <g id=\"line2d_197\">\n      <g>\n       <use style=\"stroke:#000000;stroke-width:0.6;\" x=\"592.384359\" xlink:href=\"#mc9f7317653\" y=\"115.2\"/>\n      </g>\n     </g>\n     <g id=\"line2d_198\">\n      <g>\n       <use style=\"stroke:#000000;stroke-width:0.6;\" x=\"592.384359\" xlink:href=\"#mf80cf155a6\" y=\"7.2\"/>\n      </g>\n     </g>\n    </g>\n   </g>\n   <g id=\"matplotlib.axis_4\">\n    <g id=\"ytick_22\">\n     <g id=\"line2d_199\">\n      <g>\n       <use style=\"stroke:#000000;stroke-width:0.8;\" x=\"55.900768\" xlink:href=\"#m319cd44c2d\" y=\"115.2\"/>\n      </g>\n     </g>\n     <g id=\"line2d_200\">\n      <g>\n       <use style=\"stroke:#000000;stroke-width:0.8;\" x=\"595.900768\" xlink:href=\"#mbbb6b8d6f6\" y=\"115.2\"/>\n      </g>\n     </g>\n     <g id=\"text_17\">\n      <!-- $\\mathdefault{0}$ -->\n      <g transform=\"translate(44.176482 121.42665)scale(0.18 -0.18)\">\n       <use transform=\"scale(0.996264)\" xlink:href=\"#CMR17-30\"/>\n      </g>\n     </g>\n    </g>\n    <g id=\"ytick_23\">\n     <g id=\"line2d_201\">\n      <g>\n       <use style=\"stroke:#000000;stroke-width:0.8;\" x=\"55.900768\" xlink:href=\"#m319cd44c2d\" y=\"48.324036\"/>\n      </g>\n     </g>\n     <g id=\"line2d_202\">\n      <g>\n       <use style=\"stroke:#000000;stroke-width:0.8;\" x=\"595.900768\" xlink:href=\"#mbbb6b8d6f6\" y=\"48.324036\"/>\n      </g>\n     </g>\n     <g id=\"text_18\">\n      <!-- $\\mathdefault{1}$ -->\n      <g transform=\"translate(44.176482 54.550687)scale(0.18 -0.18)\">\n       <use transform=\"scale(0.996264)\" xlink:href=\"#CMR17-31\"/>\n      </g>\n     </g>\n    </g>\n    <g id=\"ytick_24\">\n     <g id=\"line2d_203\">\n      <g>\n       <use style=\"stroke:#000000;stroke-width:0.6;\" x=\"55.900768\" xlink:href=\"#m9f3563706f\" y=\"101.824807\"/>\n      </g>\n     </g>\n     <g id=\"line2d_204\">\n      <g>\n       <use style=\"stroke:#000000;stroke-width:0.6;\" x=\"595.900768\" xlink:href=\"#m7ae52ff4b7\" y=\"101.824807\"/>\n      </g>\n     </g>\n    </g>\n    <g id=\"ytick_25\">\n     <g id=\"line2d_205\">\n      <g>\n       <use style=\"stroke:#000000;stroke-width:0.6;\" x=\"55.900768\" xlink:href=\"#m9f3563706f\" y=\"88.449615\"/>\n      </g>\n     </g>\n     <g id=\"line2d_206\">\n      <g>\n       <use style=\"stroke:#000000;stroke-width:0.6;\" x=\"595.900768\" xlink:href=\"#m7ae52ff4b7\" y=\"88.449615\"/>\n      </g>\n     </g>\n    </g>\n    <g id=\"ytick_26\">\n     <g id=\"line2d_207\">\n      <g>\n       <use style=\"stroke:#000000;stroke-width:0.6;\" x=\"55.900768\" xlink:href=\"#m9f3563706f\" y=\"75.074422\"/>\n      </g>\n     </g>\n     <g id=\"line2d_208\">\n      <g>\n       <use style=\"stroke:#000000;stroke-width:0.6;\" x=\"595.900768\" xlink:href=\"#m7ae52ff4b7\" y=\"75.074422\"/>\n      </g>\n     </g>\n    </g>\n    <g id=\"ytick_27\">\n     <g id=\"line2d_209\">\n      <g>\n       <use style=\"stroke:#000000;stroke-width:0.6;\" x=\"55.900768\" xlink:href=\"#m9f3563706f\" y=\"61.699229\"/>\n      </g>\n     </g>\n     <g id=\"line2d_210\">\n      <g>\n       <use style=\"stroke:#000000;stroke-width:0.6;\" x=\"595.900768\" xlink:href=\"#m7ae52ff4b7\" y=\"61.699229\"/>\n      </g>\n     </g>\n    </g>\n    <g id=\"ytick_28\">\n     <g id=\"line2d_211\">\n      <g>\n       <use style=\"stroke:#000000;stroke-width:0.6;\" x=\"55.900768\" xlink:href=\"#m9f3563706f\" y=\"34.948844\"/>\n      </g>\n     </g>\n     <g id=\"line2d_212\">\n      <g>\n       <use style=\"stroke:#000000;stroke-width:0.6;\" x=\"595.900768\" xlink:href=\"#m7ae52ff4b7\" y=\"34.948844\"/>\n      </g>\n     </g>\n    </g>\n    <g id=\"ytick_29\">\n     <g id=\"line2d_213\">\n      <g>\n       <use style=\"stroke:#000000;stroke-width:0.6;\" x=\"55.900768\" xlink:href=\"#m9f3563706f\" y=\"21.573651\"/>\n      </g>\n     </g>\n     <g id=\"line2d_214\">\n      <g>\n       <use style=\"stroke:#000000;stroke-width:0.6;\" x=\"595.900768\" xlink:href=\"#m7ae52ff4b7\" y=\"21.573651\"/>\n      </g>\n     </g>\n    </g>\n    <g id=\"ytick_30\">\n     <g id=\"line2d_215\">\n      <g>\n       <use style=\"stroke:#000000;stroke-width:0.6;\" x=\"55.900768\" xlink:href=\"#m9f3563706f\" y=\"8.198458\"/>\n      </g>\n     </g>\n     <g id=\"line2d_216\">\n      <g>\n       <use style=\"stroke:#000000;stroke-width:0.6;\" x=\"595.900768\" xlink:href=\"#m7ae52ff4b7\" y=\"8.198458\"/>\n      </g>\n     </g>\n    </g>\n   </g>\n   <g id=\"patch_18\">\n    <path d=\"M 55.900768 115.2 \nL 55.900768 7.2 \n\" style=\"fill:none;stroke:#000000;stroke-linecap:square;stroke-linejoin:miter;stroke-width:0.8;\"/>\n   </g>\n   <g id=\"patch_19\">\n    <path d=\"M 595.900768 115.2 \nL 595.900768 7.2 \n\" style=\"fill:none;stroke:#000000;stroke-linecap:square;stroke-linejoin:miter;stroke-width:0.8;\"/>\n   </g>\n   <g id=\"patch_20\">\n    <path d=\"M 55.900768 115.2 \nL 595.900768 115.2 \n\" style=\"fill:none;stroke:#000000;stroke-linecap:square;stroke-linejoin:miter;stroke-width:0.8;\"/>\n   </g>\n   <g id=\"patch_21\">\n    <path d=\"M 55.900768 7.2 \nL 595.900768 7.2 \n\" style=\"fill:none;stroke:#000000;stroke-linecap:square;stroke-linejoin:miter;stroke-width:0.8;\"/>\n   </g>\n  </g>\n  <g id=\"axes_3\">\n   <g id=\"patch_22\">\n    <path d=\"M 599.500768 658.8 \nL 707.500768 658.8 \nL 707.500768 118.8 \nL 599.500768 118.8 \nz\n\" style=\"fill:#ffffff;\"/>\n   </g>\n   <g id=\"patch_23\">\n    <path clip-path=\"url(#p69d692785c)\" d=\"M 599.500768 634.254545 \nL 702.35791 634.254545 \nL 702.35791 585.163636 \nL 599.500768 585.163636 \nz\n\" style=\"fill:#0000ff;\"/>\n   </g>\n   <g id=\"patch_24\">\n    <path clip-path=\"url(#p69d692785c)\" d=\"M 599.500768 585.163636 \nL 702.35791 585.163636 \nL 702.35791 536.072727 \nL 599.500768 536.072727 \nz\n\" style=\"fill:#0000ff;\"/>\n   </g>\n   <g id=\"patch_25\">\n    <path clip-path=\"url(#p69d692785c)\" d=\"M 599.500768 536.072727 \nL 702.35791 536.072727 \nL 702.35791 486.981818 \nL 599.500768 486.981818 \nz\n\" style=\"fill:#0000ff;\"/>\n   </g>\n   <g id=\"patch_26\">\n    <path clip-path=\"url(#p69d692785c)\" d=\"M 599.500768 486.981818 \nL 702.35791 486.981818 \nL 702.35791 437.890909 \nL 599.500768 437.890909 \nz\n\" style=\"fill:#0000ff;\"/>\n   </g>\n   <g id=\"patch_27\">\n    <path clip-path=\"url(#p69d692785c)\" d=\"M 599.500768 437.890909 \nL 702.35791 437.890909 \nL 702.35791 388.8 \nL 599.500768 388.8 \nz\n\" style=\"fill:#0000ff;\"/>\n   </g>\n   <g id=\"patch_28\">\n    <path clip-path=\"url(#p69d692785c)\" d=\"M 599.500768 388.8 \nL 702.35791 388.8 \nL 702.35791 339.709091 \nL 599.500768 339.709091 \nz\n\" style=\"fill:#0000ff;\"/>\n   </g>\n   <g id=\"patch_29\">\n    <path clip-path=\"url(#p69d692785c)\" d=\"M 599.500768 339.709091 \nL 702.35791 339.709091 \nL 702.35791 290.618182 \nL 599.500768 290.618182 \nz\n\" style=\"fill:#0000ff;\"/>\n   </g>\n   <g id=\"patch_30\">\n    <path clip-path=\"url(#p69d692785c)\" d=\"M 599.500768 290.618182 \nL 702.35791 290.618182 \nL 702.35791 241.527273 \nL 599.500768 241.527273 \nz\n\" style=\"fill:#0000ff;\"/>\n   </g>\n   <g id=\"patch_31\">\n    <path clip-path=\"url(#p69d692785c)\" d=\"M 599.500768 241.527273 \nL 702.35791 241.527273 \nL 702.35791 192.436364 \nL 599.500768 192.436364 \nz\n\" style=\"fill:#0000ff;\"/>\n   </g>\n   <g id=\"patch_32\">\n    <path clip-path=\"url(#p69d692785c)\" d=\"M 599.500768 192.436364 \nL 702.35791 192.436364 \nL 702.35791 143.345455 \nL 599.500768 143.345455 \nz\n\" style=\"fill:#0000ff;\"/>\n   </g>\n   <g id=\"matplotlib.axis_5\">\n    <g id=\"xtick_79\">\n     <g id=\"line2d_217\">\n      <g>\n       <use style=\"stroke:#000000;stroke-width:0.8;\" x=\"599.500768\" xlink:href=\"#maac8010ec8\" y=\"658.8\"/>\n      </g>\n     </g>\n     <g id=\"line2d_218\">\n      <g>\n       <use style=\"stroke:#000000;stroke-width:0.8;\" x=\"599.500768\" xlink:href=\"#mdefa1d105c\" y=\"118.8\"/>\n      </g>\n     </g>\n     <g id=\"text_19\">\n      <!-- $\\mathdefault{0.0}$ -->\n      <g transform=\"translate(588.837736 674.7533)scale(0.18 -0.18)\">\n       <use transform=\"scale(0.996264)\" xlink:href=\"#CMR17-30\"/>\n       <use transform=\"translate(45.690477 0)scale(0.996264)\" xlink:href=\"#CMMI12-3a\"/>\n       <use transform=\"translate(72.787654 0)scale(0.996264)\" xlink:href=\"#CMR17-30\"/>\n      </g>\n     </g>\n    </g>\n    <g id=\"xtick_80\">\n     <g id=\"line2d_219\">\n      <g>\n       <use style=\"stroke:#000000;stroke-width:0.8;\" x=\"701.919742\" xlink:href=\"#maac8010ec8\" y=\"658.8\"/>\n      </g>\n     </g>\n     <g id=\"line2d_220\">\n      <g>\n       <use style=\"stroke:#000000;stroke-width:0.8;\" x=\"701.919742\" xlink:href=\"#mdefa1d105c\" y=\"118.8\"/>\n      </g>\n     </g>\n     <g id=\"text_20\">\n      <!-- $\\mathdefault{0.1}$ -->\n      <g transform=\"translate(691.25671 674.7533)scale(0.18 -0.18)\">\n       <use transform=\"scale(0.996264)\" xlink:href=\"#CMR17-30\"/>\n       <use transform=\"translate(45.690477 0)scale(0.996264)\" xlink:href=\"#CMMI12-3a\"/>\n       <use transform=\"translate(72.787654 0)scale(0.996264)\" xlink:href=\"#CMR17-31\"/>\n      </g>\n     </g>\n    </g>\n    <g id=\"xtick_81\">\n     <g id=\"line2d_221\">\n      <g>\n       <use style=\"stroke:#000000;stroke-width:0.6;\" x=\"619.984562\" xlink:href=\"#mc9f7317653\" y=\"658.8\"/>\n      </g>\n     </g>\n     <g id=\"line2d_222\">\n      <g>\n       <use style=\"stroke:#000000;stroke-width:0.6;\" x=\"619.984562\" xlink:href=\"#mf80cf155a6\" y=\"118.8\"/>\n      </g>\n     </g>\n    </g>\n    <g id=\"xtick_82\">\n     <g id=\"line2d_223\">\n      <g>\n       <use style=\"stroke:#000000;stroke-width:0.6;\" x=\"640.468357\" xlink:href=\"#mc9f7317653\" y=\"658.8\"/>\n      </g>\n     </g>\n     <g id=\"line2d_224\">\n      <g>\n       <use style=\"stroke:#000000;stroke-width:0.6;\" x=\"640.468357\" xlink:href=\"#mf80cf155a6\" y=\"118.8\"/>\n      </g>\n     </g>\n    </g>\n    <g id=\"xtick_83\">\n     <g id=\"line2d_225\">\n      <g>\n       <use style=\"stroke:#000000;stroke-width:0.6;\" x=\"660.952152\" xlink:href=\"#mc9f7317653\" y=\"658.8\"/>\n      </g>\n     </g>\n     <g id=\"line2d_226\">\n      <g>\n       <use style=\"stroke:#000000;stroke-width:0.6;\" x=\"660.952152\" xlink:href=\"#mf80cf155a6\" y=\"118.8\"/>\n      </g>\n     </g>\n    </g>\n    <g id=\"xtick_84\">\n     <g id=\"line2d_227\">\n      <g>\n       <use style=\"stroke:#000000;stroke-width:0.6;\" x=\"681.435947\" xlink:href=\"#mc9f7317653\" y=\"658.8\"/>\n      </g>\n     </g>\n     <g id=\"line2d_228\">\n      <g>\n       <use style=\"stroke:#000000;stroke-width:0.6;\" x=\"681.435947\" xlink:href=\"#mf80cf155a6\" y=\"118.8\"/>\n      </g>\n     </g>\n    </g>\n   </g>\n   <g id=\"matplotlib.axis_6\">\n    <g id=\"ytick_31\">\n     <g id=\"line2d_229\">\n      <g>\n       <use style=\"stroke:#000000;stroke-width:0.8;\" x=\"599.500768\" xlink:href=\"#m319cd44c2d\" y=\"635.813044\"/>\n      </g>\n     </g>\n     <g id=\"line2d_230\">\n      <g>\n       <use style=\"stroke:#000000;stroke-width:0.8;\" x=\"707.500768\" xlink:href=\"#mbbb6b8d6f6\" y=\"635.813044\"/>\n      </g>\n     </g>\n    </g>\n    <g id=\"ytick_32\">\n     <g id=\"line2d_231\">\n      <g>\n       <use style=\"stroke:#000000;stroke-width:0.8;\" x=\"599.500768\" xlink:href=\"#m319cd44c2d\" y=\"537.211185\"/>\n      </g>\n     </g>\n     <g id=\"line2d_232\">\n      <g>\n       <use style=\"stroke:#000000;stroke-width:0.8;\" x=\"707.500768\" xlink:href=\"#mbbb6b8d6f6\" y=\"537.211185\"/>\n      </g>\n     </g>\n    </g>\n    <g id=\"ytick_33\">\n     <g id=\"line2d_233\">\n      <g>\n       <use style=\"stroke:#000000;stroke-width:0.8;\" x=\"599.500768\" xlink:href=\"#m319cd44c2d\" y=\"438.609326\"/>\n      </g>\n     </g>\n     <g id=\"line2d_234\">\n      <g>\n       <use style=\"stroke:#000000;stroke-width:0.8;\" x=\"707.500768\" xlink:href=\"#mbbb6b8d6f6\" y=\"438.609326\"/>\n      </g>\n     </g>\n    </g>\n    <g id=\"ytick_34\">\n     <g id=\"line2d_235\">\n      <g>\n       <use style=\"stroke:#000000;stroke-width:0.8;\" x=\"599.500768\" xlink:href=\"#m319cd44c2d\" y=\"340.007467\"/>\n      </g>\n     </g>\n     <g id=\"line2d_236\">\n      <g>\n       <use style=\"stroke:#000000;stroke-width:0.8;\" x=\"707.500768\" xlink:href=\"#mbbb6b8d6f6\" y=\"340.007467\"/>\n      </g>\n     </g>\n    </g>\n    <g id=\"ytick_35\">\n     <g id=\"line2d_237\">\n      <g>\n       <use style=\"stroke:#000000;stroke-width:0.8;\" x=\"599.500768\" xlink:href=\"#m319cd44c2d\" y=\"241.405607\"/>\n      </g>\n     </g>\n     <g id=\"line2d_238\">\n      <g>\n       <use style=\"stroke:#000000;stroke-width:0.8;\" x=\"707.500768\" xlink:href=\"#mbbb6b8d6f6\" y=\"241.405607\"/>\n      </g>\n     </g>\n    </g>\n    <g id=\"ytick_36\">\n     <g id=\"line2d_239\">\n      <g>\n       <use style=\"stroke:#000000;stroke-width:0.8;\" x=\"599.500768\" xlink:href=\"#m319cd44c2d\" y=\"142.803748\"/>\n      </g>\n     </g>\n     <g id=\"line2d_240\">\n      <g>\n       <use style=\"stroke:#000000;stroke-width:0.8;\" x=\"707.500768\" xlink:href=\"#mbbb6b8d6f6\" y=\"142.803748\"/>\n      </g>\n     </g>\n    </g>\n    <g id=\"ytick_37\">\n     <g id=\"line2d_241\">\n      <g>\n       <use style=\"stroke:#000000;stroke-width:0.6;\" x=\"599.500768\" xlink:href=\"#m9f3563706f\" y=\"611.162579\"/>\n      </g>\n     </g>\n     <g id=\"line2d_242\">\n      <g>\n       <use style=\"stroke:#000000;stroke-width:0.6;\" x=\"707.500768\" xlink:href=\"#m7ae52ff4b7\" y=\"611.162579\"/>\n      </g>\n     </g>\n    </g>\n    <g id=\"ytick_38\">\n     <g id=\"line2d_243\">\n      <g>\n       <use style=\"stroke:#000000;stroke-width:0.6;\" x=\"599.500768\" xlink:href=\"#m9f3563706f\" y=\"586.512114\"/>\n      </g>\n     </g>\n     <g id=\"line2d_244\">\n      <g>\n       <use style=\"stroke:#000000;stroke-width:0.6;\" x=\"707.500768\" xlink:href=\"#m7ae52ff4b7\" y=\"586.512114\"/>\n      </g>\n     </g>\n    </g>\n    <g id=\"ytick_39\">\n     <g id=\"line2d_245\">\n      <g>\n       <use style=\"stroke:#000000;stroke-width:0.6;\" x=\"599.500768\" xlink:href=\"#m9f3563706f\" y=\"561.86165\"/>\n      </g>\n     </g>\n     <g id=\"line2d_246\">\n      <g>\n       <use style=\"stroke:#000000;stroke-width:0.6;\" x=\"707.500768\" xlink:href=\"#m7ae52ff4b7\" y=\"561.86165\"/>\n      </g>\n     </g>\n    </g>\n    <g id=\"ytick_40\">\n     <g id=\"line2d_247\">\n      <g>\n       <use style=\"stroke:#000000;stroke-width:0.6;\" x=\"599.500768\" xlink:href=\"#m9f3563706f\" y=\"512.56072\"/>\n      </g>\n     </g>\n     <g id=\"line2d_248\">\n      <g>\n       <use style=\"stroke:#000000;stroke-width:0.6;\" x=\"707.500768\" xlink:href=\"#m7ae52ff4b7\" y=\"512.56072\"/>\n      </g>\n     </g>\n    </g>\n    <g id=\"ytick_41\">\n     <g id=\"line2d_249\">\n      <g>\n       <use style=\"stroke:#000000;stroke-width:0.6;\" x=\"599.500768\" xlink:href=\"#m9f3563706f\" y=\"487.910255\"/>\n      </g>\n     </g>\n     <g id=\"line2d_250\">\n      <g>\n       <use style=\"stroke:#000000;stroke-width:0.6;\" x=\"707.500768\" xlink:href=\"#m7ae52ff4b7\" y=\"487.910255\"/>\n      </g>\n     </g>\n    </g>\n    <g id=\"ytick_42\">\n     <g id=\"line2d_251\">\n      <g>\n       <use style=\"stroke:#000000;stroke-width:0.6;\" x=\"599.500768\" xlink:href=\"#m9f3563706f\" y=\"463.259791\"/>\n      </g>\n     </g>\n     <g id=\"line2d_252\">\n      <g>\n       <use style=\"stroke:#000000;stroke-width:0.6;\" x=\"707.500768\" xlink:href=\"#m7ae52ff4b7\" y=\"463.259791\"/>\n      </g>\n     </g>\n    </g>\n    <g id=\"ytick_43\">\n     <g id=\"line2d_253\">\n      <g>\n       <use style=\"stroke:#000000;stroke-width:0.6;\" x=\"599.500768\" xlink:href=\"#m9f3563706f\" y=\"413.958861\"/>\n      </g>\n     </g>\n     <g id=\"line2d_254\">\n      <g>\n       <use style=\"stroke:#000000;stroke-width:0.6;\" x=\"707.500768\" xlink:href=\"#m7ae52ff4b7\" y=\"413.958861\"/>\n      </g>\n     </g>\n    </g>\n    <g id=\"ytick_44\">\n     <g id=\"line2d_255\">\n      <g>\n       <use style=\"stroke:#000000;stroke-width:0.6;\" x=\"599.500768\" xlink:href=\"#m9f3563706f\" y=\"389.308396\"/>\n      </g>\n     </g>\n     <g id=\"line2d_256\">\n      <g>\n       <use style=\"stroke:#000000;stroke-width:0.6;\" x=\"707.500768\" xlink:href=\"#m7ae52ff4b7\" y=\"389.308396\"/>\n      </g>\n     </g>\n    </g>\n    <g id=\"ytick_45\">\n     <g id=\"line2d_257\">\n      <g>\n       <use style=\"stroke:#000000;stroke-width:0.6;\" x=\"599.500768\" xlink:href=\"#m9f3563706f\" y=\"364.657931\"/>\n      </g>\n     </g>\n     <g id=\"line2d_258\">\n      <g>\n       <use style=\"stroke:#000000;stroke-width:0.6;\" x=\"707.500768\" xlink:href=\"#m7ae52ff4b7\" y=\"364.657931\"/>\n      </g>\n     </g>\n    </g>\n    <g id=\"ytick_46\">\n     <g id=\"line2d_259\">\n      <g>\n       <use style=\"stroke:#000000;stroke-width:0.6;\" x=\"599.500768\" xlink:href=\"#m9f3563706f\" y=\"315.357002\"/>\n      </g>\n     </g>\n     <g id=\"line2d_260\">\n      <g>\n       <use style=\"stroke:#000000;stroke-width:0.6;\" x=\"707.500768\" xlink:href=\"#m7ae52ff4b7\" y=\"315.357002\"/>\n      </g>\n     </g>\n    </g>\n    <g id=\"ytick_47\">\n     <g id=\"line2d_261\">\n      <g>\n       <use style=\"stroke:#000000;stroke-width:0.6;\" x=\"599.500768\" xlink:href=\"#m9f3563706f\" y=\"290.706537\"/>\n      </g>\n     </g>\n     <g id=\"line2d_262\">\n      <g>\n       <use style=\"stroke:#000000;stroke-width:0.6;\" x=\"707.500768\" xlink:href=\"#m7ae52ff4b7\" y=\"290.706537\"/>\n      </g>\n     </g>\n    </g>\n    <g id=\"ytick_48\">\n     <g id=\"line2d_263\">\n      <g>\n       <use style=\"stroke:#000000;stroke-width:0.6;\" x=\"599.500768\" xlink:href=\"#m9f3563706f\" y=\"266.056072\"/>\n      </g>\n     </g>\n     <g id=\"line2d_264\">\n      <g>\n       <use style=\"stroke:#000000;stroke-width:0.6;\" x=\"707.500768\" xlink:href=\"#m7ae52ff4b7\" y=\"266.056072\"/>\n      </g>\n     </g>\n    </g>\n    <g id=\"ytick_49\">\n     <g id=\"line2d_265\">\n      <g>\n       <use style=\"stroke:#000000;stroke-width:0.6;\" x=\"599.500768\" xlink:href=\"#m9f3563706f\" y=\"216.755143\"/>\n      </g>\n     </g>\n     <g id=\"line2d_266\">\n      <g>\n       <use style=\"stroke:#000000;stroke-width:0.6;\" x=\"707.500768\" xlink:href=\"#m7ae52ff4b7\" y=\"216.755143\"/>\n      </g>\n     </g>\n    </g>\n    <g id=\"ytick_50\">\n     <g id=\"line2d_267\">\n      <g>\n       <use style=\"stroke:#000000;stroke-width:0.6;\" x=\"599.500768\" xlink:href=\"#m9f3563706f\" y=\"192.104678\"/>\n      </g>\n     </g>\n     <g id=\"line2d_268\">\n      <g>\n       <use style=\"stroke:#000000;stroke-width:0.6;\" x=\"707.500768\" xlink:href=\"#m7ae52ff4b7\" y=\"192.104678\"/>\n      </g>\n     </g>\n    </g>\n    <g id=\"ytick_51\">\n     <g id=\"line2d_269\">\n      <g>\n       <use style=\"stroke:#000000;stroke-width:0.6;\" x=\"599.500768\" xlink:href=\"#m9f3563706f\" y=\"167.454213\"/>\n      </g>\n     </g>\n     <g id=\"line2d_270\">\n      <g>\n       <use style=\"stroke:#000000;stroke-width:0.6;\" x=\"707.500768\" xlink:href=\"#m7ae52ff4b7\" y=\"167.454213\"/>\n      </g>\n     </g>\n    </g>\n   </g>\n   <g id=\"patch_33\">\n    <path d=\"M 599.500768 658.8 \nL 599.500768 118.8 \n\" style=\"fill:none;stroke:#000000;stroke-linecap:square;stroke-linejoin:miter;stroke-width:0.8;\"/>\n   </g>\n   <g id=\"patch_34\">\n    <path d=\"M 707.500768 658.8 \nL 707.500768 118.8 \n\" style=\"fill:none;stroke:#000000;stroke-linecap:square;stroke-linejoin:miter;stroke-width:0.8;\"/>\n   </g>\n   <g id=\"patch_35\">\n    <path d=\"M 599.500768 658.8 \nL 707.500768 658.8 \n\" style=\"fill:none;stroke:#000000;stroke-linecap:square;stroke-linejoin:miter;stroke-width:0.8;\"/>\n   </g>\n   <g id=\"patch_36\">\n    <path d=\"M 599.500768 118.8 \nL 707.500768 118.8 \n\" style=\"fill:none;stroke:#000000;stroke-linecap:square;stroke-linejoin:miter;stroke-width:0.8;\"/>\n   </g>\n  </g>\n </g>\n <defs>\n  <clipPath id=\"p22344328af\">\n   <rect height=\"540\" width=\"540\" x=\"55.900768\" y=\"118.8\"/>\n  </clipPath>\n  <clipPath id=\"p8299bf7c32\">\n   <rect height=\"108\" width=\"540\" x=\"55.900768\" y=\"7.2\"/>\n  </clipPath>\n  <clipPath id=\"p69d692785c\">\n   <rect height=\"540\" width=\"108\" x=\"599.500768\" y=\"118.8\"/>\n  </clipPath>\n </defs>\n</svg>\n",
      "image/png": "[encoded data removed]"
     },
     "metadata": {}
    }
   ],
   "metadata": {}
  },
  {
   "cell_type": "code",
   "execution_count": 8,
   "source": [
    "#default values for parameters\n",
    "params = {\n",
    "    'tau_0': 0.1,\n",
    "    'Lambda_0': 1.647204044,\n",
    "    'xi_0': -0.8320365099,\n",
    "    'alpha_0': 0.654868759,\n",
    "    'tau_f': 100.1,\n",
    "    'mass': 1.015228426,\n",
    "    'eta_s': 0.23873241463784,\n",
    "    'pl0': 8.1705525351457684,\n",
    "    'pt0': 1.9875332965147663,\n",
    "    'hydro_type': 0\n",
    "}"
   ],
   "outputs": [],
   "metadata": {}
  },
  {
   "cell_type": "code",
   "execution_count": 18,
   "source": [
    "# function run runs hydro code to generate simualtion results for a set of \n",
    "# given parameters\n",
    "def ProcessHydro(parameter_names, simulation_points):\n",
    "    out_list = []\n",
    "    def GetFromOutputFiles(hydro_type):\n",
    "        if hydro_type == 0:\n",
    "            prefix = '../output/CE_hydro/'\n",
    "            suffix = ''\n",
    "        elif hydro_type == 1:\n",
    "            prefix = '../output/DNMR_hydro/'\n",
    "            suffix = ''\n",
    "        elif hydro_type == 2:\n",
    "            prefix = '../output/aniso_hydro/'\n",
    "            suffix = ''\n",
    "        else:\n",
    "            prefix = '../output/aniso_hydro/'\n",
    "            suffix = '2'\n",
    "         \n",
    "        f_e = open(prefix + 'e' + suffix + '_m=0.200GeV.dat', 'r')\n",
    "        last_e = f_e.readlines()[-1]\n",
    "        tau, e = last_e.split()[0], last_e.split()[1]\n",
    "        f_e.close(); del last_e\n",
    "\n",
    "        f_pi = open(prefix + 'shear' + suffix + '_m=0.200GeV.dat', 'r')\n",
    "        last_pi = f_pi.readlines()[-1]\n",
    "        pi = last_pi.split()[1]\n",
    "        f_pi.close(); del last_pi\n",
    "\n",
    "        f_Pi = open(prefix + 'bulk' + suffix + '_m=0.200GeV.dat', 'r')\n",
    "        last_Pi = f_Pi.readlines()[-1]\n",
    "        Pi = last_Pi.split()[1]\n",
    "        f_Pi.close(); del last_Pi\n",
    "\n",
    "        temp_list = [float(tau), float(e), float(pi), float(Pi)]\n",
    "        return temp_list\n",
    "\n",
    "    if len(simulation_points) > len(parameter_names):\n",
    "        for parameters in simulation_points:\n",
    "            for i, name in enumerate(parameter_names):\n",
    "                params[name] = parameters[i]\n",
    "            PrintParametersFile(params)\n",
    "            RunHydroSimulation()\n",
    "            out_list.append(GetFromOutputFiles(params['hydro_type']))\n",
    "    else:\n",
    "        for i, name in enumerate(parameter_names):\n",
    "            params[name] = simulation_points[i]\n",
    "        PrintParametersFile(params)\n",
    "        RunHydroSimulation()\n",
    "        out_list.append(GetFromOutputFiles(params['hydro_type']))\n",
    "\n",
    "\n",
    "    return out_list\n"
   ],
   "outputs": [],
   "metadata": {}
  },
  {
   "cell_type": "code",
   "execution_count": 19,
   "source": [
    "# ce = []    # 0\n",
    "# dnmr = []  # 1\n",
    "# vah = []   # 2\n",
    "# mvah = []  # 3\n",
    "hydro_mode = [0, 1, 2, 3]\n",
    "out_lists = []\n",
    "read_in_simulation = False   # should false for first run\n",
    "if read_in_simulation:\n",
    "    with open('design_points_n=6.dat','r') as f:\n",
    "        GP_design_points = np.array([[float(entry) for entry in line.split()] for line in f.readlines()])\n",
    "\n",
    "    with open('ce_simulation_points_n=6.dat', 'r') as f:\n",
    "        lines = f.readlines()\n",
    "        ce_simulation = np.array([[float(entry) for entry in line.split()] for line in lines])\n",
    "\n",
    "    with open('dnmr_simulation_points_n=6.dat', 'r') as f:\n",
    "        lines = f.readlines()\n",
    "        dnmr_simulation = np.array([[float(entry) for entry in line.split()] for line in lines])\n",
    "\n",
    "    with open('vah_simulation_points_n=6.dat', 'r') as f:\n",
    "        lines = f.readlines()\n",
    "        vah_simulation = np.array([[float(entry) for entry in line.split()] for line in lines])\n",
    "\n",
    "    with open('mvah_simulation_points_n=6.dat', 'r') as f:\n",
    "        lines = f.readlines()\n",
    "        mvah_simulation = np.array([[float(entry) for entry in line.split()] for line in lines])\n",
    "else:\n",
    "    for i in range(4):\n",
    "        params['hydro_type'] = i\n",
    "        out_lists.append(ProcessHydro(parameter_names=GP_parameter_names, simulation_points=GP_design_points))\n",
    "\n",
    "    print(os.getcwd())\n",
    "    with open('design_points_n=6.dat','w') as f:\n",
    "        for line in GP_design_points:\n",
    "            for entry in line:\n",
    "                f.write(f'{entry} ')\n",
    "            f.write('\\n')\n",
    "\n",
    "    with open('ce_simulation_points_n=6.dat', 'w') as f:\n",
    "        for line in out_lists[0]:\n",
    "            for entry in line:\n",
    "                f.write(f'{entry} ')\n",
    "            f.write('\\n')\n",
    "\n",
    "    with open('dnmr_simulation_points_n=6.dat', 'w') as f:\n",
    "        for line in out_lists[1]:\n",
    "            for entry in line:\n",
    "                f.write(f'{entry} ')\n",
    "            f.write('\\n')\n",
    "\n",
    "    with open('vah_simulation_points_n=6.dat', 'w') as f:\n",
    "        for line in out_lists[2]:\n",
    "            for entry in line:\n",
    "                f.write(f'{entry} ')\n",
    "            f.write('\\n')\n",
    "\n",
    "    with open('mvah_simulation_points_n=6.dat', 'w') as f:\n",
    "        for line in out_lists[3]:\n",
    "            for entry in line:\n",
    "                f.write(f'{entry} ')\n",
    "            f.write('\\n')\n",
    "    "
   ],
   "outputs": [
    {
     "output_type": "error",
     "ename": "IndexError",
     "evalue": "list index out of range",
     "traceback": [
      "\u001b[0;31m---------------------------------------------------------------------------\u001b[0m",
      "\u001b[0;31mIndexError\u001b[0m                                Traceback (most recent call last)",
      "\u001b[0;32m<ipython-input-19-fb0646762d06>\u001b[0m in \u001b[0;36m<module>\u001b[0;34m\u001b[0m\n\u001b[1;32m     28\u001b[0m     \u001b[0;32mfor\u001b[0m \u001b[0mi\u001b[0m \u001b[0;32min\u001b[0m \u001b[0mrange\u001b[0m\u001b[0;34m(\u001b[0m\u001b[0;36m4\u001b[0m\u001b[0;34m)\u001b[0m\u001b[0;34m:\u001b[0m\u001b[0;34m\u001b[0m\u001b[0;34m\u001b[0m\u001b[0m\n\u001b[1;32m     29\u001b[0m         \u001b[0mparams\u001b[0m\u001b[0;34m[\u001b[0m\u001b[0;34m'hydro_type'\u001b[0m\u001b[0;34m]\u001b[0m \u001b[0;34m=\u001b[0m \u001b[0mi\u001b[0m\u001b[0;34m\u001b[0m\u001b[0;34m\u001b[0m\u001b[0m\n\u001b[0;32m---> 30\u001b[0;31m         \u001b[0mout_lists\u001b[0m\u001b[0;34m.\u001b[0m\u001b[0mappend\u001b[0m\u001b[0;34m(\u001b[0m\u001b[0mProcessHydro\u001b[0m\u001b[0;34m(\u001b[0m\u001b[0mparameter_names\u001b[0m\u001b[0;34m=\u001b[0m\u001b[0mGP_parameter_names\u001b[0m\u001b[0;34m,\u001b[0m \u001b[0msimulation_points\u001b[0m\u001b[0;34m=\u001b[0m\u001b[0mGP_design_points\u001b[0m\u001b[0;34m)\u001b[0m\u001b[0;34m)\u001b[0m\u001b[0;34m\u001b[0m\u001b[0;34m\u001b[0m\u001b[0m\n\u001b[0m\u001b[1;32m     31\u001b[0m \u001b[0;34m\u001b[0m\u001b[0m\n\u001b[1;32m     32\u001b[0m     \u001b[0mprint\u001b[0m\u001b[0;34m(\u001b[0m\u001b[0mos\u001b[0m\u001b[0;34m.\u001b[0m\u001b[0mgetcwd\u001b[0m\u001b[0;34m(\u001b[0m\u001b[0;34m)\u001b[0m\u001b[0;34m)\u001b[0m\u001b[0;34m\u001b[0m\u001b[0;34m\u001b[0m\u001b[0m\n",
      "\u001b[0;32m<ipython-input-18-3e0e8ee53ced>\u001b[0m in \u001b[0;36mProcessHydro\u001b[0;34m(parameter_names, simulation_points)\u001b[0m\n\u001b[1;32m     41\u001b[0m             \u001b[0mPrintParametersFile\u001b[0m\u001b[0;34m(\u001b[0m\u001b[0mparams\u001b[0m\u001b[0;34m)\u001b[0m\u001b[0;34m\u001b[0m\u001b[0;34m\u001b[0m\u001b[0m\n\u001b[1;32m     42\u001b[0m             \u001b[0mRunHydroSimulation\u001b[0m\u001b[0;34m(\u001b[0m\u001b[0;34m)\u001b[0m\u001b[0;34m\u001b[0m\u001b[0;34m\u001b[0m\u001b[0m\n\u001b[0;32m---> 43\u001b[0;31m             \u001b[0mout_list\u001b[0m\u001b[0;34m.\u001b[0m\u001b[0mappend\u001b[0m\u001b[0;34m(\u001b[0m\u001b[0mGetFromOutputFiles\u001b[0m\u001b[0;34m(\u001b[0m\u001b[0mparams\u001b[0m\u001b[0;34m[\u001b[0m\u001b[0;34m'hydro_type'\u001b[0m\u001b[0;34m]\u001b[0m\u001b[0;34m)\u001b[0m\u001b[0;34m)\u001b[0m\u001b[0;34m\u001b[0m\u001b[0;34m\u001b[0m\u001b[0m\n\u001b[0m\u001b[1;32m     44\u001b[0m     \u001b[0;32melse\u001b[0m\u001b[0;34m:\u001b[0m\u001b[0;34m\u001b[0m\u001b[0;34m\u001b[0m\u001b[0m\n\u001b[1;32m     45\u001b[0m         \u001b[0;32mfor\u001b[0m \u001b[0mi\u001b[0m\u001b[0;34m,\u001b[0m \u001b[0mname\u001b[0m \u001b[0;32min\u001b[0m \u001b[0menumerate\u001b[0m\u001b[0;34m(\u001b[0m\u001b[0mparameter_names\u001b[0m\u001b[0;34m)\u001b[0m\u001b[0;34m:\u001b[0m\u001b[0;34m\u001b[0m\u001b[0;34m\u001b[0m\u001b[0m\n",
      "\u001b[0;32m<ipython-input-18-3e0e8ee53ced>\u001b[0m in \u001b[0;36mGetFromOutputFiles\u001b[0;34m(hydro_type)\u001b[0m\n\u001b[1;32m     18\u001b[0m \u001b[0;34m\u001b[0m\u001b[0m\n\u001b[1;32m     19\u001b[0m         \u001b[0mf_e\u001b[0m \u001b[0;34m=\u001b[0m \u001b[0mopen\u001b[0m\u001b[0;34m(\u001b[0m\u001b[0mprefix\u001b[0m \u001b[0;34m+\u001b[0m \u001b[0;34m'e'\u001b[0m \u001b[0;34m+\u001b[0m \u001b[0msuffix\u001b[0m \u001b[0;34m+\u001b[0m \u001b[0;34m'_m=0.200GeV.dat'\u001b[0m\u001b[0;34m,\u001b[0m \u001b[0;34m'r'\u001b[0m\u001b[0;34m)\u001b[0m\u001b[0;34m\u001b[0m\u001b[0;34m\u001b[0m\u001b[0m\n\u001b[0;32m---> 20\u001b[0;31m         \u001b[0mlast_e\u001b[0m \u001b[0;34m=\u001b[0m \u001b[0mf_e\u001b[0m\u001b[0;34m.\u001b[0m\u001b[0mreadlines\u001b[0m\u001b[0;34m(\u001b[0m\u001b[0;34m)\u001b[0m\u001b[0;34m[\u001b[0m\u001b[0;34m-\u001b[0m\u001b[0;36m1\u001b[0m\u001b[0;34m]\u001b[0m\u001b[0;34m\u001b[0m\u001b[0;34m\u001b[0m\u001b[0m\n\u001b[0m\u001b[1;32m     21\u001b[0m         \u001b[0mtau\u001b[0m\u001b[0;34m,\u001b[0m \u001b[0me\u001b[0m \u001b[0;34m=\u001b[0m \u001b[0mlast_e\u001b[0m\u001b[0;34m.\u001b[0m\u001b[0msplit\u001b[0m\u001b[0;34m(\u001b[0m\u001b[0;34m)\u001b[0m\u001b[0;34m[\u001b[0m\u001b[0;36m0\u001b[0m\u001b[0;34m]\u001b[0m\u001b[0;34m,\u001b[0m \u001b[0mlast_e\u001b[0m\u001b[0;34m.\u001b[0m\u001b[0msplit\u001b[0m\u001b[0;34m(\u001b[0m\u001b[0;34m)\u001b[0m\u001b[0;34m[\u001b[0m\u001b[0;36m1\u001b[0m\u001b[0;34m]\u001b[0m\u001b[0;34m\u001b[0m\u001b[0;34m\u001b[0m\u001b[0m\n\u001b[1;32m     22\u001b[0m         \u001b[0mf_e\u001b[0m\u001b[0;34m.\u001b[0m\u001b[0mclose\u001b[0m\u001b[0;34m(\u001b[0m\u001b[0;34m)\u001b[0m\u001b[0;34m;\u001b[0m \u001b[0;32mdel\u001b[0m \u001b[0mlast_e\u001b[0m\u001b[0;34m\u001b[0m\u001b[0;34m\u001b[0m\u001b[0m\n",
      "\u001b[0;31mIndexError\u001b[0m: list index out of range"
     ]
    }
   ],
   "metadata": {}
  },
  {
   "cell_type": "code",
   "execution_count": null,
   "source": [
    "GP_design_points"
   ],
   "outputs": [
    {
     "output_type": "execute_result",
     "data": {
      "text/plain": [
       "array([[ 0.71894567, 16.91664419,  0.12571112,  0.61973624,  5.15240775,\n",
       "         9.87528401],\n",
       "       [ 0.47779747, 13.89044397,  0.06311274,  4.7993198 ,  9.77858117,\n",
       "         0.18080841],\n",
       "       [ 0.3521855 , 13.03863401,  0.14584483,  2.01844405,  7.23431471,\n",
       "         4.69815474],\n",
       "       [ 0.59563285, 18.33273216,  0.11135672,  1.25074685,  3.03342352,\n",
       "         1.52797429],\n",
       "       [ 0.6167971 , 19.19962598,  0.14161461,  2.26141311,  4.2983885 ,\n",
       "         5.47440196],\n",
       "       [ 0.52535984, 15.96260273,  0.05414555,  3.35149646,  0.99429463,\n",
       "         3.95009035],\n",
       "       [ 0.22198423, 10.27804167,  0.0686164 ,  0.11726615,  3.75623303,\n",
       "         8.85086477],\n",
       "       [ 0.42220435, 14.49392795,  0.11715531,  4.02566171,  8.13406057,\n",
       "         6.72125457],\n",
       "       [ 0.26213159, 11.19797163,  0.09430808,  4.39478999,  0.08518713,\n",
       "         6.15367948],\n",
       "       [ 0.12131093, 19.07073573,  0.08871302,  2.58094357,  8.52106397,\n",
       "         2.52831704],\n",
       "       [ 0.15479201, 15.35844006,  0.10232953,  3.01076607,  1.88019841,\n",
       "         7.5182931 ],\n",
       "       [ 0.77264312, 11.73743552,  0.07674538,  1.2077851 ,  6.17549553,\n",
       "         1.91841479]])"
      ]
     },
     "metadata": {},
     "execution_count": 10
    }
   ],
   "metadata": {}
  },
  {
   "cell_type": "code",
   "execution_count": null,
   "source": [
    "emulators = {'ce': [], 'dnmr': [], 'vah': [], 'mvah': []}\n",
    "read_in_emulator = False\n",
    "if read_in_emulator:\n",
    "    pass\n",
    "else:\n",
    "    for hydro in emulators:\n",
    "        local_list = []\n",
    "        print('\\tTraining GP for ' + hydro)\n",
    "        for i in range(1, 4):\n",
    "            kernel = 1 * krnl.RBF(\n",
    "                length_scale=GP_design_range, \n",
    "                length_scale_bounds=np.outer(np.array(GP_design_range), (1e-50, 1e50))) #+ \\\n",
    "                # krnl.WhiteKernel(noise_level=0.1, noise_level_bounds=(1e-10, 1e1))\n",
    "            GPR = gpr(kernel=kernel, n_restarts_optimizer=100)\n",
    "            print('\\t\\tTraining GP:', i)\n",
    "            if hydro == 'ce':\n",
    "                GPR.fit(GP_design_points, ce_simulation[:,i].reshape(-1,1))\n",
    "                print('GP score: {:1.3f}'.format(GPR.score(GP_design_points, ce_simulation[:,i])))\n",
    "            elif hydro == 'dnmr':\n",
    "                GPR.fit(GP_design_points, dnmr_simulation[:,i].reshape(-1,1))\n",
    "                print('GP score: {:1.3f}'.format(GPR.score(GP_design_points, dnmr_simulation[:,i])))\n",
    "            elif hydro == 'vah':\n",
    "                GPR.fit(GP_design_points, vah_simulation[:,i].reshape(-1,1))\n",
    "                print('GP score: {:1.3f}'.format(GPR.score(GP_design_points, vah_simulation[:,i])))\n",
    "            elif hydro == 'mvah':\n",
    "                GPR.fit(GP_design_points, mvah_simulation[:,i].reshape(-1,1))\n",
    "                print('GP score: {:1.3f}'.format(GPR.score(GP_design_points, mvah_simulation[:,i])))\n",
    "            else:\n",
    "                print('Invalid hydro type')\n",
    "                break\n",
    "            local_list.append(GPR)\n",
    "        emulators[hydro] = local_list"
   ],
   "outputs": [
    {
     "output_type": "stream",
     "name": "stdout",
     "text": [
      "\tTraining GP for ce\n",
      "\t\tTraining GP: 1\n"
     ]
    },
    {
     "output_type": "stream",
     "name": "stderr",
     "text": [
      "/home/ominusliticus/anaconda3/envs/nucl-research/lib/python3.9/site-packages/sklearn/gaussian_process/kernels.py:411: ConvergenceWarning: The optimal value found for dimension 0 of parameter k1__constant_value is close to the specified upper bound 100000.0. Increasing the bound and calling fit again may find a better value.\n",
      "  warnings.warn(\"The optimal value found for \"\n"
     ]
    },
    {
     "output_type": "stream",
     "name": "stdout",
     "text": [
      "GP score: 0.021\n",
      "\t\tTraining GP: 2\n",
      "GP score: -196746780456661568.000\n",
      "\t\tTraining GP: 3\n"
     ]
    },
    {
     "output_type": "stream",
     "name": "stderr",
     "text": [
      "/home/ominusliticus/anaconda3/envs/nucl-research/lib/python3.9/site-packages/sklearn/gaussian_process/kernels.py:402: ConvergenceWarning: The optimal value found for dimension 0 of parameter k1__constant_value is close to the specified lower bound 1e-05. Decreasing the bound and calling fit again may find a better value.\n",
      "  warnings.warn(\"The optimal value found for \"\n"
     ]
    },
    {
     "output_type": "stream",
     "name": "stdout",
     "text": [
      "GP score: -61052477964966416.000\n",
      "\tTraining GP for dnmr\n",
      "\t\tTraining GP: 1\n"
     ]
    },
    {
     "output_type": "stream",
     "name": "stderr",
     "text": [
      "/home/ominusliticus/anaconda3/envs/nucl-research/lib/python3.9/site-packages/sklearn/gaussian_process/kernels.py:411: ConvergenceWarning: The optimal value found for dimension 0 of parameter k1__constant_value is close to the specified upper bound 100000.0. Increasing the bound and calling fit again may find a better value.\n",
      "  warnings.warn(\"The optimal value found for \"\n"
     ]
    },
    {
     "output_type": "stream",
     "name": "stdout",
     "text": [
      "GP score: 0.750\n",
      "\t\tTraining GP: 2\n"
     ]
    },
    {
     "output_type": "stream",
     "name": "stderr",
     "text": [
      "/home/ominusliticus/anaconda3/envs/nucl-research/lib/python3.9/site-packages/sklearn/gaussian_process/kernels.py:411: ConvergenceWarning: The optimal value found for dimension 6 of parameter k2__length_scale is close to the specified upper bound 1e+51. Increasing the bound and calling fit again may find a better value.\n",
      "  warnings.warn(\"The optimal value found for \"\n"
     ]
    },
    {
     "output_type": "stream",
     "name": "stdout",
     "text": [
      "GP score: -194854844278200000.000\n",
      "\t\tTraining GP: 3\n"
     ]
    },
    {
     "output_type": "stream",
     "name": "stderr",
     "text": [
      "/home/ominusliticus/anaconda3/envs/nucl-research/lib/python3.9/site-packages/sklearn/gaussian_process/kernels.py:402: ConvergenceWarning: The optimal value found for dimension 0 of parameter k1__constant_value is close to the specified lower bound 1e-05. Decreasing the bound and calling fit again may find a better value.\n",
      "  warnings.warn(\"The optimal value found for \"\n"
     ]
    },
    {
     "output_type": "stream",
     "name": "stdout",
     "text": [
      "GP score: 0.000\n",
      "\tTraining GP for vah\n",
      "\t\tTraining GP: 1\n",
      "GP score: -6123866568043.407\n",
      "\t\tTraining GP: 2\n",
      "GP score: -245381856849078208.000\n",
      "\t\tTraining GP: 3\n"
     ]
    },
    {
     "output_type": "stream",
     "name": "stderr",
     "text": [
      "/home/ominusliticus/anaconda3/envs/nucl-research/lib/python3.9/site-packages/sklearn/gaussian_process/kernels.py:402: ConvergenceWarning: The optimal value found for dimension 0 of parameter k1__constant_value is close to the specified lower bound 1e-05. Decreasing the bound and calling fit again may find a better value.\n",
      "  warnings.warn(\"The optimal value found for \"\n"
     ]
    },
    {
     "output_type": "stream",
     "name": "stdout",
     "text": [
      "GP score: -30205761379365812.000\n",
      "\tTraining GP for mvah\n",
      "\t\tTraining GP: 1\n"
     ]
    },
    {
     "output_type": "stream",
     "name": "stderr",
     "text": [
      "/home/ominusliticus/anaconda3/envs/nucl-research/lib/python3.9/site-packages/sklearn/gaussian_process/kernels.py:411: ConvergenceWarning: The optimal value found for dimension 0 of parameter k1__constant_value is close to the specified upper bound 100000.0. Increasing the bound and calling fit again may find a better value.\n",
      "  warnings.warn(\"The optimal value found for \"\n"
     ]
    },
    {
     "output_type": "stream",
     "name": "stdout",
     "text": [
      "GP score: 0.943\n",
      "\t\tTraining GP: 2\n",
      "GP score: 0.000\n",
      "\t\tTraining GP: 3\n",
      "GP score: -224096547742175584.000\n"
     ]
    },
    {
     "output_type": "stream",
     "name": "stderr",
     "text": [
      "/home/ominusliticus/anaconda3/envs/nucl-research/lib/python3.9/site-packages/sklearn/gaussian_process/kernels.py:402: ConvergenceWarning: The optimal value found for dimension 0 of parameter k1__constant_value is close to the specified lower bound 1e-05. Decreasing the bound and calling fit again may find a better value.\n",
      "  warnings.warn(\"The optimal value found for \"\n"
     ]
    }
   ],
   "metadata": {}
  },
  {
   "cell_type": "code",
   "execution_count": null,
   "source": [
    "for name in emulators:\n",
    "    print(name)\n",
    "    for gp in emulators[name]:\n",
    "        print('\\t', gp.kernel.hyperparameters)\n",
    "    print('\\t')"
   ],
   "outputs": [],
   "metadata": {}
  },
  {
   "cell_type": "code",
   "execution_count": null,
   "source": [
    "#validation\n",
    "number_validation_points = 10\n",
    "tau_f = np.full((number_validation_points, 1), 15)\n",
    "eta_s = np.array(GP_parameter_ranges[0,0] + np.random.rand(number_validation_points, 1) * GP_design_range[0])\n",
    "eta_s = eta_s[np.argsort(eta_s, 0)[:,0]]\n",
    "validation_points = np.hstack((eta_s, tau_f))\n",
    "\n",
    "names = ['ce', 'dnmr','vah','mvah']\n",
    "\n",
    "validation_data = {}\n",
    "for i, name in enumerate(names):\n",
    "    params['hydro_type'] = i\n",
    "    validation_data[name] = ProcessHydro(GP_parameter_names, validation_points)\n",
    "\n",
    "GP_predictions = {'ce': [], 'dnmr': [], 'vah': [], 'mvah': []}\n",
    "for name in names:\n",
    "    for i in range(3):\n",
    "        GP_x_prediction, GP_x_err = emulators[name][i].predict(validation_points, return_std=True)\n",
    "        GP_predictions[name].append(np.hstack((GP_x_prediction, GP_x_err.reshape(-1,1))))"
   ],
   "outputs": [],
   "metadata": {}
  },
  {
   "cell_type": "code",
   "execution_count": null,
   "source": [
    "GP_predictions['ce'][2][:,1]"
   ],
   "outputs": [],
   "metadata": {}
  },
  {
   "cell_type": "code",
   "execution_count": null,
   "source": [
    "fig, ax = plt.subplots(4, 3, figsize=(40,30))\n",
    "fig.patch.set_facecolor('white')\n",
    "\n",
    "names = ['ce', 'dnmr','vah','mvah']\n",
    "observables = [r'$\\mathcal E$ [fm$^{-1}$]', r'$\\pi$ [fm$^{-1}$]', r'$\\Pi$ [fm$^{-1}$]']\n",
    "for i, name in enumerate(names):\n",
    "    for j, observable in enumerate(observables):\n",
    "        ax[i, j].scatter(validation_points[:,0], np.array(validation_data[name])[:, j+1], lw=2, color='blue', label=name)\n",
    "        ax[i, j].fill_between(validation_points[:,0], GP_predictions[name][j][:, 0] + GP_predictions[name][j][:, 1], GP_predictions[name][j][:, 0] - GP_predictions[name][j][:, 1], color='red', alpha=0.5)\n",
    "        costumize_axis(ax[i, j], r'$\\eta_\\mathcal S$ ', observable)\n",
    "        ax[i, j].legend(loc=0, fontsize=25)\n",
    "        # if j == 0:\n",
    "        #     ax[i, j].set_xscale('log')\n",
    "        #     ax[i, j].set_yscale('log')"
   ],
   "outputs": [],
   "metadata": {}
  },
  {
   "cell_type": "code",
   "execution_count": null,
   "source": [
    "# Check error distribution to make sure it conforms to out assumptions\n",
    "number_validation_points = 100\n",
    "tau_f = np.full((number_validation_points, 1), 15)\n",
    "eta_s = np.array(GP_parameter_ranges[0,0] + np.random.rand(number_validation_points, 1) * GP_design_range[0])\n",
    "eta_s = eta_s[np.argsort(eta_s, 0)[:,0]]\n",
    "validation_points = np.hstack((eta_s, tau_f))\n",
    "\n",
    "validate = False\n",
    "if validate:\n",
    "    validation_data = {}\n",
    "    for i, name in enumerate(names):\n",
    "        params['hydro_type'] = i\n",
    "        validation_data[name] = ProcessHydro(GP_parameter_names, validation_points)\n",
    "\n",
    "    GP_predictions = {'ce': [], 'dnmr': [], 'vah': [], 'mvah': []}\n",
    "    for name in names:\n",
    "        for i in range(3):\n",
    "            GP_x_prediction, GP_x_err = emulators[name][i].predict(validation_points, return_std=True)\n",
    "            GP_predictions[name].append(np.hstack((GP_x_prediction, GP_x_err.reshape(-1,1))))"
   ],
   "outputs": [],
   "metadata": {}
  },
  {
   "cell_type": "code",
   "execution_count": null,
   "source": [
    "if validate:\n",
    "    normalized_discrepenancy = {'ce': [], 'dnmr': [], 'vah': [], 'mvah': []}\n",
    "    for i, name in enumerate(names):\n",
    "        for j in range(3):\n",
    "            normalized_discrepenancy[name].append((GP_predictions[name][j][:,0] - np.array(validation_data[name])[:,j+1]) / GP_predictions[name][j][:,1])\n",
    "\n",
    "    residuals = {'ce': [], 'dnmr': [], 'vah': [], 'mvah': []}\n",
    "    for i, name in enumerate(names):\n",
    "        for j in range(3):\n",
    "            residuals[name].append((GP_predictions[name][j][:,0] - np.array(validation_data[name])[:,j+1]))"
   ],
   "outputs": [],
   "metadata": {}
  },
  {
   "cell_type": "code",
   "execution_count": null,
   "source": [
    "if validate:\n",
    "    fig1, ax1 = plt.subplots(4, 3, figsize=(40, 30))\n",
    "    fig1.patch.set_facecolor('white')\n",
    "    for i, name in enumerate(names):\n",
    "        for j, observable in enumerate(observables):\n",
    "            ax1[i, j].hist(residuals[name][j],color='brown')\n",
    "            ax1[i, j].set_xlabel(observable)\n",
    "\n",
    "    fig2, ax2 = plt.subplots(4, 3, figsize=(40, 30))\n",
    "    fig2.patch.set_facecolor('white')\n",
    "    for i, name in enumerate(names):\n",
    "        for j, observable in enumerate(observables):\n",
    "            ax2[i, j].hist(normalized_discrepenancy[name][j], bins=15, range=[-3,3], color='brown')\n",
    "            ax2[i, j].set_xlabel(observable)"
   ],
   "outputs": [],
   "metadata": {}
  },
  {
   "cell_type": "code",
   "execution_count": null,
   "source": [
    "def predict_observable(model_parameters, hydro_name, GP_emulator):\n",
    "    '''\n",
    "    Parameters:\n",
    "    ------------\n",
    "    model_parameters    - 1d-array like (n,) \n",
    "    hydro_name          - string\n",
    "    GP_emulator         - dictionary\n",
    "    '''\n",
    "    means = []\n",
    "    variances = []\n",
    "    for i in range(3):\n",
    "        prediction, error = GP_emulator[hydro_name][i].predict(np.array(model_parameters).reshape(-1, len(model_parameters)), return_std=True)\n",
    "        means.append(prediction)\n",
    "        variances.append(error ** 2)\n",
    "    return np.hstack(means), np.diag(np.array(variances).flatten())"
   ],
   "outputs": [],
   "metadata": {}
  },
  {
   "cell_type": "code",
   "execution_count": null,
   "source": [
    "x, y = predict_observable([0.33, 13.33], 'ce', emulators)\n",
    "print(x, y)"
   ],
   "outputs": [],
   "metadata": {}
  },
  {
   "cell_type": "markdown",
   "source": [
    "# Bayesian Inference\n",
    "The usual"
   ],
   "metadata": {}
  },
  {
   "cell_type": "code",
   "execution_count": null,
   "source": [
    "# true information \n",
    "true_param_values = GP_parameter_ranges[:,0] + np.random.rand(len(GP_parameter_names)) * GP_design_range\n",
    "print(true_param_values)\n",
    "\n",
    "names = ['ce', 'dnmr', 'vah', 'mvah']\n",
    "true_observables = {}\n",
    "for i, name in enumerate(names):\n",
    "    params['hydro_type'] = i\n",
    "    true_observables[name] = np.array(ProcessHydro(GP_parameter_names, true_param_values))\n",
    "\n",
    "true_observables"
   ],
   "outputs": [],
   "metadata": {}
  },
  {
   "cell_type": "code",
   "execution_count": null,
   "source": [
    "def log_prior(model_parameters, design_range):\n",
    "    '''\n",
    "    Parameters:\n",
    "    ------------\n",
    "    model_parameters    - 1d-array with shape (n,). Value of parameters used to evaluate model\n",
    "    design_range        - 2d-array with shape (n,2). Give upper and lower limits of parameter values\n",
    "    '''\n",
    "    X  = np.array(model_parameters).reshape(1,-1)\n",
    "    lower = np.all(X >= np.array(design_range)[0])\n",
    "    upper = np.all(X <= np.array(design_range)[1])\n",
    "\n",
    "    if (lower and upper):\n",
    "        return 0\n",
    "    else:\n",
    "        return -np.inf\n",
    "\n",
    "def log_likelihood(y, cov):\n",
    "    '''\n",
    "    Parameters:\n",
    "    ------------\n",
    "    y   - 1d-array with shape (n,)\n",
    "    cov - 2d-array with shape (n,n)\n",
    "    '''\n",
    "    # Use Cholesky decomposition for efficient lin alg algo\n",
    "    L, info = lapack.dpotrf(cov, clean=True)\n",
    "\n",
    "    if (info < 0):\n",
    "        raise print('Error occured in computation of Cholesky decomposition')\n",
    "\n",
    "    # Solve equation L*b=y\n",
    "    b, info = lapack.dpotrs(L, np.array(y))\n",
    "\n",
    "    if (info != 0):\n",
    "        raise print('Error in inverting matrix equation')\n",
    "\n",
    "    if np.all(L.diagonal() > 0):\n",
    "        return -0.5 * np.dot(y, b) - np.log(L.diagonal()).sum()\n",
    "    else:\n",
    "        raise print('Diagonal has negative entry')\n",
    "\n",
    "def log_posterior(model_parameters, design_range, true_values, hydro_name, GP_emulator):\n",
    "    '''\n",
    "    Parameters:\n",
    "    ------------\n",
    "    model_parameters    - 1d-array like (n,)\n",
    "    design_range        - 2d-array like (n,2)\n",
    "    true_values         - 1d-array like (3,) or 2d-array like (3,2)\n",
    "    hydro_name          - string containing hydro theory: 'ce', 'dnmr', 'vah', 'mvah'\n",
    "    GP_emulatr          - dictionary(hydro_name: emulator_list), \n",
    "                            emulator_list[0] - energery density\n",
    "                            emulator_list[1] - shear stress\n",
    "                            emulator_list[2] - bulk stress\n",
    "    '''\n",
    "    emulation_values, emulation_error = predict_observable(model_parameters, hydro_name, GP_emulator)\n",
    "\n",
    "    if np.array(true_values).shape != (3,2):\n",
    "        y = np.array(emulation_values) - np.array(true_values)\n",
    "        cov = emulation_error\n",
    "\n",
    "    return log_prior(model_parameters, design_range) + log_likelihood(y.flatten(), cov)\n"
   ],
   "outputs": [],
   "metadata": {}
  },
  {
   "cell_type": "code",
   "execution_count": null,
   "source": [
    "nparams = len(GP_parameter_names)\n",
    "nwalkers = 10 * nparams\n",
    "nburn = 500\n",
    "nsteps = 2000\n",
    "\n",
    "names = ['ce', 'dnmr', 'vah', 'mvah']\n",
    "MCMC_samplers = {}\n",
    "for i, name in enumerate(names):\n",
    "    print(f\"Computing for hydro theory: {name}\")\n",
    "    starting_guesses = GP_parameter_ranges[:,0] + np.random.rand(nwalkers, nparams) * GP_design_range\n",
    "    print(\"MCMC sampling using emcee (affine-invariant ensamble sampler) with {0} walkers\".format(nwalkers))\n",
    "    with Pool() as pool:\n",
    "        sampler = emcee.EnsembleSampler(nwalkers, nparams, log_posterior, args=(GP_parameter_ranges, true_observables[name][0,1:4], name, emulators))\n",
    "        print('burn in sampling started')    \n",
    "        pos = sampler.run_mcmc(starting_guesses, nburn, progress=True, store=True)\n",
    "        print(\"Mean acceptance fraction: {0:.3f} (in total {1} steps)\".format(\n",
    "                        np.mean(sampler.acceptance_fraction), nwalkers*nburn))\n",
    "        print('Burn in completed.')\n",
    "        print(\"Now running the samples\")\n",
    "        sampler.run_mcmc(initial_state=None, nsteps=nsteps, progress=True, tune=False)  \n",
    "        print(\"Mean acceptance fraction: {0:.3f} (in total {1} steps)\".format(\n",
    "                        np.mean(sampler.acceptance_fraction), nwalkers*nsteps))\n",
    "    sampler_df = pd.DataFrame(sampler.get_chain(flat=True, discard=nburn), columns=GP_parameter_names)\n",
    "    MCMC_samplers[name] = sampler_df"
   ],
   "outputs": [],
   "metadata": {}
  },
  {
   "cell_type": "code",
   "execution_count": null,
   "source": [
    "sampler_df.head()"
   ],
   "outputs": [],
   "metadata": {}
  },
  {
   "cell_type": "code",
   "execution_count": null,
   "source": [
    "x = np.array([1, 2])\n",
    "x.shape == (2,3)\n",
    "x.reshape(-1, 2)"
   ],
   "outputs": [],
   "metadata": {}
  },
  {
   "cell_type": "code",
   "execution_count": null,
   "source": [
    "g = sns.PairGrid(sampler_df.iloc[:,:], corner=True, diag_sharey=False)\n",
    "g.map_lower(sns.histplot, bins=50, color=sns.color_palette()[9])\n",
    "g.map_diag(sns.kdeplot, linewidth=2, shade=True, color=sns.color_palette()[-1])\n",
    "for n in range(nparams):\n",
    "    ax=g.axes[n][n]\n",
    "    ax.axvline(x=true_param_values[n], ls='-', c=sns.color_palette()[3], label='Truth')\n",
    "    ax.text(0,0.8,s= f'{true_param_values[n]:.2f}', transform=ax.transAxes, color=sns.color_palette()[1], fontsize=12)\n",
    "g.axes[1,1].legend(loc='best', fontsize=10)"
   ],
   "outputs": [],
   "metadata": {}
  },
  {
   "cell_type": "code",
   "execution_count": null,
   "source": [
    "\n"
   ],
   "outputs": [],
   "metadata": {}
  }
 ],
 "metadata": {
  "interpreter": {
   "hash": "7fb83b32280be2ebdd2403a26634c886ea07bee31bd3875126600d59e800048e"
  },
  "kernelspec": {
   "name": "python3",
   "display_name": "Python 3.9.6 64-bit ('nucl-research': conda)"
  },
  "language_info": {
   "codemirror_mode": {
    "name": "ipython",
    "version": 3
   },
   "file_extension": ".py",
   "mimetype": "text/x-python",
   "name": "python",
   "nbconvert_exporter": "python",
   "pygments_lexer": "ipython3",
   "version": "3.9.6"
  }
 },
 "nbformat": 4,
 "nbformat_minor": 5
}